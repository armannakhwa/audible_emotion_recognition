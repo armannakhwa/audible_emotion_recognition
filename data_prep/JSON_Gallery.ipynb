{
 "cells": [
  {
   "cell_type": "code",
   "execution_count": 19,
   "id": "fitted-region",
   "metadata": {},
   "outputs": [],
   "source": [
    "from pylab import *\n",
    "import os\n",
    "import pandas as pd\n",
    "import librosa\n",
    "import librosa.display\n",
    "import joblib"
   ]
  },
  {
   "cell_type": "code",
   "execution_count": 20,
   "id": "unavailable-beast",
   "metadata": {},
   "outputs": [],
   "source": [
    "def input_parser(input_file):\n",
    "   try:\n",
    "      X, sample_rate = librosa.load(input_file, res_type='kaiser_fast') \n",
    "      mfccs = np.mean(librosa.feature.mfcc(y=X, sr=sample_rate, n_mfcc=128).T,axis=0) \n",
    "   except Exception as e:\n",
    "      print(\"Error encountered while parsing file: \", input_file)\n",
    "      return None\n",
    "   feature = mfccs.tolist()\n",
    "   \n",
    "   return feature"
   ]
  },
  {
   "cell_type": "code",
   "execution_count": 23,
   "id": "prostate-tissue",
   "metadata": {},
   "outputs": [],
   "source": [
    "results_dict = {\n",
    "    \"predictedEmotion\": [],\n",
    "    \"emotionCategories\": [], \n",
    "    \"probabilities\": [], \n",
    "    \"predictedSex\": []\n",
    "    }"
   ]
  },
  {
   "cell_type": "code",
   "execution_count": 24,
   "id": "pleased-coverage",
   "metadata": {},
   "outputs": [],
   "source": [
    "def model_test(input_file):\n",
    "    model = joblib.load('../models/rf2_model.sav')\n",
    "    model2 = joblib.load('../models/gen_emo_rf_model.sav')\n",
    "    feature = input_parser(input_file)\n",
    "    arr = np.array(feature)\n",
    "    arr2d = np.reshape(arr, (1,128))\n",
    "    pred_emotion = model.predict(arr2d)  \n",
    "    probs = model.predict_proba(arr2d)\n",
    "    emotion_labels = model.classes_\n",
    "    gender = model2.predict(arr2d)\n",
    "    if gender[0] == 0:\n",
    "        label = \"Male\"\n",
    "    elif gender[0] == 1:\n",
    "        label = \"Female\"\n",
    "    results_dict[\"predictedEmotion\"] = pred_emotion[0]\n",
    "    results_dict[\"emotionCategories\"] = emotion_labels.tolist()\n",
    "    results_dict[\"probabilities\"] = probs[0].tolist()\n",
    "    results_dict[\"predictedSex\"] = label\n",
    "    print(results_dict)"
   ]
  },
  {
   "cell_type": "code",
   "execution_count": 31,
   "id": "powered-lambda",
   "metadata": {},
   "outputs": [
    {
     "name": "stdout",
     "output_type": "stream",
     "text": [
      "{'predictedEmotion': 'happy', 'emotionCategories': ['angry', 'disgust', 'fearful', 'happy', 'sad', 'surprise'], 'probabilities': [0.15, 0.145, 0.215, 0.28, 0.075, 0.135], 'predictedSex': 'Female'}\n"
     ]
    },
    {
     "ename": "TypeError",
     "evalue": "'NoneType' object does not support item assignment",
     "output_type": "error",
     "traceback": [
      "\u001b[0;31m---------------------------------------------------------------------------\u001b[0m",
      "\u001b[0;31mTypeError\u001b[0m                                 Traceback (most recent call last)",
      "\u001b[0;32m<ipython-input-31-c79fff5e431a>\u001b[0m in \u001b[0;36m<module>\u001b[0;34m\u001b[0m\n\u001b[1;32m     16\u001b[0m \u001b[0;32mfor\u001b[0m \u001b[0mi\u001b[0m \u001b[0;32min\u001b[0m \u001b[0mrange\u001b[0m\u001b[0;34m(\u001b[0m\u001b[0mlen\u001b[0m\u001b[0;34m(\u001b[0m\u001b[0maudio_file_paths\u001b[0m\u001b[0;34m)\u001b[0m\u001b[0;34m)\u001b[0m\u001b[0;34m:\u001b[0m\u001b[0;34m\u001b[0m\u001b[0;34m\u001b[0m\u001b[0m\n\u001b[1;32m     17\u001b[0m     \u001b[0ma\u001b[0m \u001b[0;34m=\u001b[0m \u001b[0mmodel_test\u001b[0m\u001b[0;34m(\u001b[0m\u001b[0maudio_file_paths\u001b[0m\u001b[0;34m[\u001b[0m\u001b[0mi\u001b[0m\u001b[0;34m]\u001b[0m\u001b[0;34m)\u001b[0m\u001b[0;34m\u001b[0m\u001b[0;34m\u001b[0m\u001b[0m\n\u001b[0;32m---> 18\u001b[0;31m     \u001b[0ma\u001b[0m\u001b[0;34m[\u001b[0m\u001b[0;34m\"keyword\"\u001b[0m\u001b[0;34m]\u001b[0m \u001b[0;34m=\u001b[0m \u001b[0mkeywords\u001b[0m\u001b[0;34m[\u001b[0m\u001b[0mi\u001b[0m\u001b[0;34m]\u001b[0m\u001b[0;34m\u001b[0m\u001b[0;34m\u001b[0m\u001b[0m\n\u001b[0m\u001b[1;32m     19\u001b[0m     \u001b[0mtv_movie_sounds\u001b[0m\u001b[0;34m.\u001b[0m\u001b[0mappend\u001b[0m\u001b[0;34m(\u001b[0m\u001b[0ma\u001b[0m\u001b[0;34m)\u001b[0m\u001b[0;34m\u001b[0m\u001b[0;34m\u001b[0m\u001b[0m\n\u001b[1;32m     20\u001b[0m \u001b[0;32mimport\u001b[0m \u001b[0mjson\u001b[0m\u001b[0;34m\u001b[0m\u001b[0;34m\u001b[0m\u001b[0m\n",
      "\u001b[0;31mTypeError\u001b[0m: 'NoneType' object does not support item assignment"
     ]
    }
   ],
   "source": [
    "audio_file_paths = [\n",
    "    \"../static/audio/mono_a13_hanks.wav\", \n",
    "    \"../static/audio/mono_clue_mustard.wav\",\n",
    "    \"../static/audio/mono_ewdavid.wav\",\n",
    "    \"../static/audio/mono_meangirls_gretchen.wav\",\n",
    "    \"../static/audio/mono_nathan.wav\",\n",
    "    \"../static/audio/mono_starwars_vader.wav\",\n",
    "    \"../static/audio/mono_theoffice_michael.wav\",\n",
    "    \"../static/audio/mono_wizardofoz_witch.wav\"\n",
    "]\n",
    "\n",
    "tv_movie_sounds = []\n",
    "\n",
    "keywords = [\"hanks\", \"mustard\", \"ewdavid\", \"gretchen\", \"nathan\", \"vader\", \"theoffice\", \"witch\"]\n",
    "\n",
    "for i in range(len(audio_file_paths)):\n",
    "    a = model_test(audio_file_paths[i])\n",
    "    a[\"keyword\"] = keywords[i]\n",
    "    tv_movie_sounds.append(a)\n",
    "import json\n",
    "\n",
    "with open('../data/test_audio/actor_emotions.json', 'w') as file:\n",
    "    json.dump(tv_movie_sounds, file)"
   ]
  },
  {
   "cell_type": "code",
   "execution_count": null,
   "id": "third-timing",
   "metadata": {},
   "outputs": [],
   "source": []
  }
 ],
 "metadata": {
  "kernelspec": {
   "display_name": "Python 3",
   "language": "python",
   "name": "python3"
  },
  "language_info": {
   "codemirror_mode": {
    "name": "ipython",
    "version": 3
   },
   "file_extension": ".py",
   "mimetype": "text/x-python",
   "name": "python",
   "nbconvert_exporter": "python",
   "pygments_lexer": "ipython3",
   "version": "3.6.12"
  }
 },
 "nbformat": 4,
 "nbformat_minor": 5
}
