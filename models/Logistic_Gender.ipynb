{
 "cells": [
  {
   "cell_type": "code",
   "execution_count": 19,
   "id": "perceived-landing",
   "metadata": {},
   "outputs": [],
   "source": [
    "#Import Dependencies\n",
    "from pylab import *\n",
    "import os\n",
    "import pandas as pd\n",
    "# import librosa\n",
    "# import librosa.display\n",
    "# import glob\n",
    "from sklearn.model_selection import train_test_split\n",
    "from sklearn.preprocessing import LabelEncoder, StandardScaler\n",
    "from tensorflow.keras.models import Sequential\n",
    "from tensorflow.keras.layers import Dense"
   ]
  },
  {
   "cell_type": "markdown",
   "id": "mineral-contrast",
   "metadata": {},
   "source": [
    "# Model"
   ]
  },
  {
   "cell_type": "code",
   "execution_count": 20,
   "id": "fuzzy-richmond",
   "metadata": {},
   "outputs": [
    {
     "data": {
      "text/html": [
       "<div>\n",
       "<style scoped>\n",
       "    .dataframe tbody tr th:only-of-type {\n",
       "        vertical-align: middle;\n",
       "    }\n",
       "\n",
       "    .dataframe tbody tr th {\n",
       "        vertical-align: top;\n",
       "    }\n",
       "\n",
       "    .dataframe thead th {\n",
       "        text-align: right;\n",
       "    }\n",
       "</style>\n",
       "<table border=\"1\" class=\"dataframe\">\n",
       "  <thead>\n",
       "    <tr style=\"text-align: right;\">\n",
       "      <th></th>\n",
       "      <th>0</th>\n",
       "      <th>1</th>\n",
       "      <th>2</th>\n",
       "      <th>3</th>\n",
       "      <th>4</th>\n",
       "      <th>5</th>\n",
       "      <th>6</th>\n",
       "      <th>7</th>\n",
       "      <th>8</th>\n",
       "      <th>9</th>\n",
       "      <th>...</th>\n",
       "      <th>120</th>\n",
       "      <th>121</th>\n",
       "      <th>122</th>\n",
       "      <th>123</th>\n",
       "      <th>124</th>\n",
       "      <th>125</th>\n",
       "      <th>126</th>\n",
       "      <th>127</th>\n",
       "      <th>label</th>\n",
       "      <th>emotions</th>\n",
       "    </tr>\n",
       "  </thead>\n",
       "  <tbody>\n",
       "    <tr>\n",
       "      <th>0</th>\n",
       "      <td>-700.398926</td>\n",
       "      <td>58.630211</td>\n",
       "      <td>-3.025852</td>\n",
       "      <td>16.040241</td>\n",
       "      <td>4.248529</td>\n",
       "      <td>3.869935</td>\n",
       "      <td>-6.381716</td>\n",
       "      <td>-0.188635</td>\n",
       "      <td>-13.735003</td>\n",
       "      <td>-0.319724</td>\n",
       "      <td>...</td>\n",
       "      <td>0.043364</td>\n",
       "      <td>-0.118930</td>\n",
       "      <td>0.086475</td>\n",
       "      <td>0.020726</td>\n",
       "      <td>-0.009119</td>\n",
       "      <td>0.028229</td>\n",
       "      <td>0.139806</td>\n",
       "      <td>-0.038748</td>\n",
       "      <td>0</td>\n",
       "      <td>calm</td>\n",
       "    </tr>\n",
       "    <tr>\n",
       "      <th>1</th>\n",
       "      <td>-653.169006</td>\n",
       "      <td>58.028076</td>\n",
       "      <td>-12.581207</td>\n",
       "      <td>11.818786</td>\n",
       "      <td>-7.681562</td>\n",
       "      <td>-0.617142</td>\n",
       "      <td>-8.337758</td>\n",
       "      <td>-5.823570</td>\n",
       "      <td>-6.547592</td>\n",
       "      <td>1.458057</td>\n",
       "      <td>...</td>\n",
       "      <td>-0.441313</td>\n",
       "      <td>-0.270397</td>\n",
       "      <td>-0.072456</td>\n",
       "      <td>-0.126832</td>\n",
       "      <td>0.204340</td>\n",
       "      <td>0.047925</td>\n",
       "      <td>-0.173506</td>\n",
       "      <td>0.012698</td>\n",
       "      <td>1</td>\n",
       "      <td>calm</td>\n",
       "    </tr>\n",
       "    <tr>\n",
       "      <th>2</th>\n",
       "      <td>-617.052307</td>\n",
       "      <td>60.103371</td>\n",
       "      <td>-5.984258</td>\n",
       "      <td>13.886285</td>\n",
       "      <td>1.120427</td>\n",
       "      <td>0.511750</td>\n",
       "      <td>-14.841358</td>\n",
       "      <td>-4.016369</td>\n",
       "      <td>-5.575839</td>\n",
       "      <td>-6.309851</td>\n",
       "      <td>...</td>\n",
       "      <td>0.018517</td>\n",
       "      <td>0.039327</td>\n",
       "      <td>0.347483</td>\n",
       "      <td>0.340563</td>\n",
       "      <td>0.208704</td>\n",
       "      <td>-0.167646</td>\n",
       "      <td>0.078711</td>\n",
       "      <td>-0.066652</td>\n",
       "      <td>0</td>\n",
       "      <td>calm</td>\n",
       "    </tr>\n",
       "    <tr>\n",
       "      <th>3</th>\n",
       "      <td>-698.721130</td>\n",
       "      <td>47.088486</td>\n",
       "      <td>-11.333612</td>\n",
       "      <td>12.963088</td>\n",
       "      <td>-8.005651</td>\n",
       "      <td>-1.252229</td>\n",
       "      <td>-10.009068</td>\n",
       "      <td>-9.434125</td>\n",
       "      <td>-10.318875</td>\n",
       "      <td>-0.864674</td>\n",
       "      <td>...</td>\n",
       "      <td>-0.238024</td>\n",
       "      <td>-0.276562</td>\n",
       "      <td>-0.140813</td>\n",
       "      <td>0.068313</td>\n",
       "      <td>-0.155587</td>\n",
       "      <td>-0.085290</td>\n",
       "      <td>-0.532761</td>\n",
       "      <td>-0.309992</td>\n",
       "      <td>1</td>\n",
       "      <td>calm</td>\n",
       "    </tr>\n",
       "    <tr>\n",
       "      <th>4</th>\n",
       "      <td>-715.922607</td>\n",
       "      <td>71.976799</td>\n",
       "      <td>4.457525</td>\n",
       "      <td>18.602499</td>\n",
       "      <td>8.404046</td>\n",
       "      <td>3.621954</td>\n",
       "      <td>-1.974365</td>\n",
       "      <td>0.022673</td>\n",
       "      <td>-2.678083</td>\n",
       "      <td>4.232803</td>\n",
       "      <td>...</td>\n",
       "      <td>-0.215464</td>\n",
       "      <td>0.402756</td>\n",
       "      <td>0.292296</td>\n",
       "      <td>-0.007742</td>\n",
       "      <td>0.232237</td>\n",
       "      <td>-0.152113</td>\n",
       "      <td>-0.026279</td>\n",
       "      <td>0.499299</td>\n",
       "      <td>0</td>\n",
       "      <td>calm</td>\n",
       "    </tr>\n",
       "  </tbody>\n",
       "</table>\n",
       "<p>5 rows × 130 columns</p>\n",
       "</div>"
      ],
      "text/plain": [
       "            0          1          2          3         4         5          6  \\\n",
       "0 -700.398926  58.630211  -3.025852  16.040241  4.248529  3.869935  -6.381716   \n",
       "1 -653.169006  58.028076 -12.581207  11.818786 -7.681562 -0.617142  -8.337758   \n",
       "2 -617.052307  60.103371  -5.984258  13.886285  1.120427  0.511750 -14.841358   \n",
       "3 -698.721130  47.088486 -11.333612  12.963088 -8.005651 -1.252229 -10.009068   \n",
       "4 -715.922607  71.976799   4.457525  18.602499  8.404046  3.621954  -1.974365   \n",
       "\n",
       "          7          8         9  ...       120       121       122       123  \\\n",
       "0 -0.188635 -13.735003 -0.319724  ...  0.043364 -0.118930  0.086475  0.020726   \n",
       "1 -5.823570  -6.547592  1.458057  ... -0.441313 -0.270397 -0.072456 -0.126832   \n",
       "2 -4.016369  -5.575839 -6.309851  ...  0.018517  0.039327  0.347483  0.340563   \n",
       "3 -9.434125 -10.318875 -0.864674  ... -0.238024 -0.276562 -0.140813  0.068313   \n",
       "4  0.022673  -2.678083  4.232803  ... -0.215464  0.402756  0.292296 -0.007742   \n",
       "\n",
       "        124       125       126       127  label  emotions  \n",
       "0 -0.009119  0.028229  0.139806 -0.038748      0      calm  \n",
       "1  0.204340  0.047925 -0.173506  0.012698      1      calm  \n",
       "2  0.208704 -0.167646  0.078711 -0.066652      0      calm  \n",
       "3 -0.155587 -0.085290 -0.532761 -0.309992      1      calm  \n",
       "4  0.232237 -0.152113 -0.026279  0.499299      0      calm  \n",
       "\n",
       "[5 rows x 130 columns]"
      ]
     },
     "execution_count": 20,
     "metadata": {},
     "output_type": "execute_result"
    }
   ],
   "source": [
    "df = pd.read_csv('../data/gender_data.csv')\n",
    "df.head()"
   ]
  },
  {
   "cell_type": "code",
   "execution_count": 21,
   "id": "proprietary-adaptation",
   "metadata": {},
   "outputs": [
    {
     "data": {
      "text/html": [
       "<div>\n",
       "<style scoped>\n",
       "    .dataframe tbody tr th:only-of-type {\n",
       "        vertical-align: middle;\n",
       "    }\n",
       "\n",
       "    .dataframe tbody tr th {\n",
       "        vertical-align: top;\n",
       "    }\n",
       "\n",
       "    .dataframe thead th {\n",
       "        text-align: right;\n",
       "    }\n",
       "</style>\n",
       "<table border=\"1\" class=\"dataframe\">\n",
       "  <thead>\n",
       "    <tr style=\"text-align: right;\">\n",
       "      <th></th>\n",
       "      <th>0</th>\n",
       "      <th>1</th>\n",
       "      <th>2</th>\n",
       "      <th>3</th>\n",
       "      <th>4</th>\n",
       "      <th>5</th>\n",
       "      <th>6</th>\n",
       "      <th>7</th>\n",
       "      <th>8</th>\n",
       "      <th>9</th>\n",
       "      <th>...</th>\n",
       "      <th>119</th>\n",
       "      <th>120</th>\n",
       "      <th>121</th>\n",
       "      <th>122</th>\n",
       "      <th>123</th>\n",
       "      <th>124</th>\n",
       "      <th>125</th>\n",
       "      <th>126</th>\n",
       "      <th>127</th>\n",
       "      <th>label</th>\n",
       "    </tr>\n",
       "  </thead>\n",
       "  <tbody>\n",
       "    <tr>\n",
       "      <th>0</th>\n",
       "      <td>-700.398926</td>\n",
       "      <td>58.630211</td>\n",
       "      <td>-3.025852</td>\n",
       "      <td>16.040241</td>\n",
       "      <td>4.248529</td>\n",
       "      <td>3.869935</td>\n",
       "      <td>-6.381716</td>\n",
       "      <td>-0.188635</td>\n",
       "      <td>-13.735003</td>\n",
       "      <td>-0.319724</td>\n",
       "      <td>...</td>\n",
       "      <td>-0.009966</td>\n",
       "      <td>0.043364</td>\n",
       "      <td>-0.118930</td>\n",
       "      <td>0.086475</td>\n",
       "      <td>0.020726</td>\n",
       "      <td>-0.009119</td>\n",
       "      <td>0.028229</td>\n",
       "      <td>0.139806</td>\n",
       "      <td>-0.038748</td>\n",
       "      <td>0</td>\n",
       "    </tr>\n",
       "    <tr>\n",
       "      <th>1</th>\n",
       "      <td>-653.169006</td>\n",
       "      <td>58.028076</td>\n",
       "      <td>-12.581207</td>\n",
       "      <td>11.818786</td>\n",
       "      <td>-7.681562</td>\n",
       "      <td>-0.617142</td>\n",
       "      <td>-8.337758</td>\n",
       "      <td>-5.823570</td>\n",
       "      <td>-6.547592</td>\n",
       "      <td>1.458057</td>\n",
       "      <td>...</td>\n",
       "      <td>0.047958</td>\n",
       "      <td>-0.441313</td>\n",
       "      <td>-0.270397</td>\n",
       "      <td>-0.072456</td>\n",
       "      <td>-0.126832</td>\n",
       "      <td>0.204340</td>\n",
       "      <td>0.047925</td>\n",
       "      <td>-0.173506</td>\n",
       "      <td>0.012698</td>\n",
       "      <td>1</td>\n",
       "    </tr>\n",
       "    <tr>\n",
       "      <th>2</th>\n",
       "      <td>-617.052307</td>\n",
       "      <td>60.103371</td>\n",
       "      <td>-5.984258</td>\n",
       "      <td>13.886285</td>\n",
       "      <td>1.120427</td>\n",
       "      <td>0.511750</td>\n",
       "      <td>-14.841358</td>\n",
       "      <td>-4.016369</td>\n",
       "      <td>-5.575839</td>\n",
       "      <td>-6.309851</td>\n",
       "      <td>...</td>\n",
       "      <td>0.189555</td>\n",
       "      <td>0.018517</td>\n",
       "      <td>0.039327</td>\n",
       "      <td>0.347483</td>\n",
       "      <td>0.340563</td>\n",
       "      <td>0.208704</td>\n",
       "      <td>-0.167646</td>\n",
       "      <td>0.078711</td>\n",
       "      <td>-0.066652</td>\n",
       "      <td>0</td>\n",
       "    </tr>\n",
       "    <tr>\n",
       "      <th>3</th>\n",
       "      <td>-698.721130</td>\n",
       "      <td>47.088486</td>\n",
       "      <td>-11.333612</td>\n",
       "      <td>12.963088</td>\n",
       "      <td>-8.005651</td>\n",
       "      <td>-1.252229</td>\n",
       "      <td>-10.009068</td>\n",
       "      <td>-9.434125</td>\n",
       "      <td>-10.318875</td>\n",
       "      <td>-0.864674</td>\n",
       "      <td>...</td>\n",
       "      <td>0.171895</td>\n",
       "      <td>-0.238024</td>\n",
       "      <td>-0.276562</td>\n",
       "      <td>-0.140813</td>\n",
       "      <td>0.068313</td>\n",
       "      <td>-0.155587</td>\n",
       "      <td>-0.085290</td>\n",
       "      <td>-0.532761</td>\n",
       "      <td>-0.309992</td>\n",
       "      <td>1</td>\n",
       "    </tr>\n",
       "    <tr>\n",
       "      <th>4</th>\n",
       "      <td>-715.922607</td>\n",
       "      <td>71.976799</td>\n",
       "      <td>4.457525</td>\n",
       "      <td>18.602499</td>\n",
       "      <td>8.404046</td>\n",
       "      <td>3.621954</td>\n",
       "      <td>-1.974365</td>\n",
       "      <td>0.022673</td>\n",
       "      <td>-2.678083</td>\n",
       "      <td>4.232803</td>\n",
       "      <td>...</td>\n",
       "      <td>-0.165444</td>\n",
       "      <td>-0.215464</td>\n",
       "      <td>0.402756</td>\n",
       "      <td>0.292296</td>\n",
       "      <td>-0.007742</td>\n",
       "      <td>0.232237</td>\n",
       "      <td>-0.152113</td>\n",
       "      <td>-0.026279</td>\n",
       "      <td>0.499299</td>\n",
       "      <td>0</td>\n",
       "    </tr>\n",
       "  </tbody>\n",
       "</table>\n",
       "<p>5 rows × 129 columns</p>\n",
       "</div>"
      ],
      "text/plain": [
       "            0          1          2          3         4         5          6  \\\n",
       "0 -700.398926  58.630211  -3.025852  16.040241  4.248529  3.869935  -6.381716   \n",
       "1 -653.169006  58.028076 -12.581207  11.818786 -7.681562 -0.617142  -8.337758   \n",
       "2 -617.052307  60.103371  -5.984258  13.886285  1.120427  0.511750 -14.841358   \n",
       "3 -698.721130  47.088486 -11.333612  12.963088 -8.005651 -1.252229 -10.009068   \n",
       "4 -715.922607  71.976799   4.457525  18.602499  8.404046  3.621954  -1.974365   \n",
       "\n",
       "          7          8         9  ...       119       120       121       122  \\\n",
       "0 -0.188635 -13.735003 -0.319724  ... -0.009966  0.043364 -0.118930  0.086475   \n",
       "1 -5.823570  -6.547592  1.458057  ...  0.047958 -0.441313 -0.270397 -0.072456   \n",
       "2 -4.016369  -5.575839 -6.309851  ...  0.189555  0.018517  0.039327  0.347483   \n",
       "3 -9.434125 -10.318875 -0.864674  ...  0.171895 -0.238024 -0.276562 -0.140813   \n",
       "4  0.022673  -2.678083  4.232803  ... -0.165444 -0.215464  0.402756  0.292296   \n",
       "\n",
       "        123       124       125       126       127  label  \n",
       "0  0.020726 -0.009119  0.028229  0.139806 -0.038748      0  \n",
       "1 -0.126832  0.204340  0.047925 -0.173506  0.012698      1  \n",
       "2  0.340563  0.208704 -0.167646  0.078711 -0.066652      0  \n",
       "3  0.068313 -0.155587 -0.085290 -0.532761 -0.309992      1  \n",
       "4 -0.007742  0.232237 -0.152113 -0.026279  0.499299      0  \n",
       "\n",
       "[5 rows x 129 columns]"
      ]
     },
     "execution_count": 21,
     "metadata": {},
     "output_type": "execute_result"
    }
   ],
   "source": [
    "df.drop(inplace=True, columns=[\"emotions\"])\n",
    "df.head()"
   ]
  },
  {
   "cell_type": "code",
   "execution_count": 22,
   "id": "proof-border",
   "metadata": {},
   "outputs": [],
   "source": [
    "target = df[\"label\"]\n",
    "target = df[\"label\"].values.reshape(-1, 1)\n"
   ]
  },
  {
   "cell_type": "code",
   "execution_count": 23,
   "id": "willing-taylor",
   "metadata": {},
   "outputs": [
    {
     "data": {
      "text/html": [
       "<div>\n",
       "<style scoped>\n",
       "    .dataframe tbody tr th:only-of-type {\n",
       "        vertical-align: middle;\n",
       "    }\n",
       "\n",
       "    .dataframe tbody tr th {\n",
       "        vertical-align: top;\n",
       "    }\n",
       "\n",
       "    .dataframe thead th {\n",
       "        text-align: right;\n",
       "    }\n",
       "</style>\n",
       "<table border=\"1\" class=\"dataframe\">\n",
       "  <thead>\n",
       "    <tr style=\"text-align: right;\">\n",
       "      <th></th>\n",
       "      <th>0</th>\n",
       "      <th>1</th>\n",
       "      <th>2</th>\n",
       "      <th>3</th>\n",
       "      <th>4</th>\n",
       "      <th>5</th>\n",
       "      <th>6</th>\n",
       "      <th>7</th>\n",
       "      <th>8</th>\n",
       "      <th>9</th>\n",
       "      <th>...</th>\n",
       "      <th>118</th>\n",
       "      <th>119</th>\n",
       "      <th>120</th>\n",
       "      <th>121</th>\n",
       "      <th>122</th>\n",
       "      <th>123</th>\n",
       "      <th>124</th>\n",
       "      <th>125</th>\n",
       "      <th>126</th>\n",
       "      <th>127</th>\n",
       "    </tr>\n",
       "  </thead>\n",
       "  <tbody>\n",
       "    <tr>\n",
       "      <th>0</th>\n",
       "      <td>-700.398926</td>\n",
       "      <td>58.630211</td>\n",
       "      <td>-3.025852</td>\n",
       "      <td>16.040241</td>\n",
       "      <td>4.248529</td>\n",
       "      <td>3.869935</td>\n",
       "      <td>-6.381716</td>\n",
       "      <td>-0.188635</td>\n",
       "      <td>-13.735003</td>\n",
       "      <td>-0.319724</td>\n",
       "      <td>...</td>\n",
       "      <td>-0.048826</td>\n",
       "      <td>-0.009966</td>\n",
       "      <td>0.043364</td>\n",
       "      <td>-0.118930</td>\n",
       "      <td>0.086475</td>\n",
       "      <td>0.020726</td>\n",
       "      <td>-0.009119</td>\n",
       "      <td>0.028229</td>\n",
       "      <td>0.139806</td>\n",
       "      <td>-0.038748</td>\n",
       "    </tr>\n",
       "    <tr>\n",
       "      <th>1</th>\n",
       "      <td>-653.169006</td>\n",
       "      <td>58.028076</td>\n",
       "      <td>-12.581207</td>\n",
       "      <td>11.818786</td>\n",
       "      <td>-7.681562</td>\n",
       "      <td>-0.617142</td>\n",
       "      <td>-8.337758</td>\n",
       "      <td>-5.823570</td>\n",
       "      <td>-6.547592</td>\n",
       "      <td>1.458057</td>\n",
       "      <td>...</td>\n",
       "      <td>-0.151122</td>\n",
       "      <td>0.047958</td>\n",
       "      <td>-0.441313</td>\n",
       "      <td>-0.270397</td>\n",
       "      <td>-0.072456</td>\n",
       "      <td>-0.126832</td>\n",
       "      <td>0.204340</td>\n",
       "      <td>0.047925</td>\n",
       "      <td>-0.173506</td>\n",
       "      <td>0.012698</td>\n",
       "    </tr>\n",
       "    <tr>\n",
       "      <th>2</th>\n",
       "      <td>-617.052307</td>\n",
       "      <td>60.103371</td>\n",
       "      <td>-5.984258</td>\n",
       "      <td>13.886285</td>\n",
       "      <td>1.120427</td>\n",
       "      <td>0.511750</td>\n",
       "      <td>-14.841358</td>\n",
       "      <td>-4.016369</td>\n",
       "      <td>-5.575839</td>\n",
       "      <td>-6.309851</td>\n",
       "      <td>...</td>\n",
       "      <td>0.002693</td>\n",
       "      <td>0.189555</td>\n",
       "      <td>0.018517</td>\n",
       "      <td>0.039327</td>\n",
       "      <td>0.347483</td>\n",
       "      <td>0.340563</td>\n",
       "      <td>0.208704</td>\n",
       "      <td>-0.167646</td>\n",
       "      <td>0.078711</td>\n",
       "      <td>-0.066652</td>\n",
       "    </tr>\n",
       "    <tr>\n",
       "      <th>3</th>\n",
       "      <td>-698.721130</td>\n",
       "      <td>47.088486</td>\n",
       "      <td>-11.333612</td>\n",
       "      <td>12.963088</td>\n",
       "      <td>-8.005651</td>\n",
       "      <td>-1.252229</td>\n",
       "      <td>-10.009068</td>\n",
       "      <td>-9.434125</td>\n",
       "      <td>-10.318875</td>\n",
       "      <td>-0.864674</td>\n",
       "      <td>...</td>\n",
       "      <td>-0.421341</td>\n",
       "      <td>0.171895</td>\n",
       "      <td>-0.238024</td>\n",
       "      <td>-0.276562</td>\n",
       "      <td>-0.140813</td>\n",
       "      <td>0.068313</td>\n",
       "      <td>-0.155587</td>\n",
       "      <td>-0.085290</td>\n",
       "      <td>-0.532761</td>\n",
       "      <td>-0.309992</td>\n",
       "    </tr>\n",
       "    <tr>\n",
       "      <th>4</th>\n",
       "      <td>-715.922607</td>\n",
       "      <td>71.976799</td>\n",
       "      <td>4.457525</td>\n",
       "      <td>18.602499</td>\n",
       "      <td>8.404046</td>\n",
       "      <td>3.621954</td>\n",
       "      <td>-1.974365</td>\n",
       "      <td>0.022673</td>\n",
       "      <td>-2.678083</td>\n",
       "      <td>4.232803</td>\n",
       "      <td>...</td>\n",
       "      <td>0.384698</td>\n",
       "      <td>-0.165444</td>\n",
       "      <td>-0.215464</td>\n",
       "      <td>0.402756</td>\n",
       "      <td>0.292296</td>\n",
       "      <td>-0.007742</td>\n",
       "      <td>0.232237</td>\n",
       "      <td>-0.152113</td>\n",
       "      <td>-0.026279</td>\n",
       "      <td>0.499299</td>\n",
       "    </tr>\n",
       "  </tbody>\n",
       "</table>\n",
       "<p>5 rows × 128 columns</p>\n",
       "</div>"
      ],
      "text/plain": [
       "            0          1          2          3         4         5          6  \\\n",
       "0 -700.398926  58.630211  -3.025852  16.040241  4.248529  3.869935  -6.381716   \n",
       "1 -653.169006  58.028076 -12.581207  11.818786 -7.681562 -0.617142  -8.337758   \n",
       "2 -617.052307  60.103371  -5.984258  13.886285  1.120427  0.511750 -14.841358   \n",
       "3 -698.721130  47.088486 -11.333612  12.963088 -8.005651 -1.252229 -10.009068   \n",
       "4 -715.922607  71.976799   4.457525  18.602499  8.404046  3.621954  -1.974365   \n",
       "\n",
       "          7          8         9  ...       118       119       120       121  \\\n",
       "0 -0.188635 -13.735003 -0.319724  ... -0.048826 -0.009966  0.043364 -0.118930   \n",
       "1 -5.823570  -6.547592  1.458057  ... -0.151122  0.047958 -0.441313 -0.270397   \n",
       "2 -4.016369  -5.575839 -6.309851  ...  0.002693  0.189555  0.018517  0.039327   \n",
       "3 -9.434125 -10.318875 -0.864674  ... -0.421341  0.171895 -0.238024 -0.276562   \n",
       "4  0.022673  -2.678083  4.232803  ...  0.384698 -0.165444 -0.215464  0.402756   \n",
       "\n",
       "        122       123       124       125       126       127  \n",
       "0  0.086475  0.020726 -0.009119  0.028229  0.139806 -0.038748  \n",
       "1 -0.072456 -0.126832  0.204340  0.047925 -0.173506  0.012698  \n",
       "2  0.347483  0.340563  0.208704 -0.167646  0.078711 -0.066652  \n",
       "3 -0.140813  0.068313 -0.155587 -0.085290 -0.532761 -0.309992  \n",
       "4  0.292296 -0.007742  0.232237 -0.152113 -0.026279  0.499299  \n",
       "\n",
       "[5 rows x 128 columns]"
      ]
     },
     "execution_count": 23,
     "metadata": {},
     "output_type": "execute_result"
    }
   ],
   "source": [
    "data = df.drop(\"label\", axis=1)\n",
    "feature_names = data.columns\n",
    "data.head()"
   ]
  },
  {
   "cell_type": "code",
   "execution_count": 24,
   "id": "respiratory-syndication",
   "metadata": {},
   "outputs": [
    {
     "name": "stdout",
     "output_type": "stream",
     "text": [
      "(4240, 128) (4240, 1)\n"
     ]
    }
   ],
   "source": [
    "print(data.shape, target.shape)"
   ]
  },
  {
   "cell_type": "code",
   "execution_count": 25,
   "id": "portable-garlic",
   "metadata": {},
   "outputs": [],
   "source": [
    "X_train, X_test, y_train, y_test = train_test_split(data, target, random_state=42)"
   ]
  },
  {
   "cell_type": "code",
   "execution_count": 26,
   "id": "silent-drama",
   "metadata": {},
   "outputs": [
    {
     "data": {
      "text/plain": [
       "array([[0],\n",
       "       [0],\n",
       "       [1],\n",
       "       ...,\n",
       "       [1],\n",
       "       [1],\n",
       "       [1]], dtype=int64)"
      ]
     },
     "execution_count": 26,
     "metadata": {},
     "output_type": "execute_result"
    }
   ],
   "source": [
    "y_test"
   ]
  },
  {
   "cell_type": "code",
   "execution_count": 27,
   "id": "identical-secretariat",
   "metadata": {},
   "outputs": [],
   "source": [
    "from sklearn.preprocessing import StandardScaler\n",
    "\n",
    "# Create a StandardScater model and fit it to the training data\n",
    "\n",
    "### BEGIN SOLUTION\n",
    "X_scaler = StandardScaler().fit(X_train)\n",
    "#y_scaler = StandardScaler().fit(y_train)\n",
    "### END SOLUTION"
   ]
  },
  {
   "cell_type": "code",
   "execution_count": 28,
   "id": "superior-detective",
   "metadata": {},
   "outputs": [],
   "source": [
    "# Transform the training and testing data using the X_scaler and y_scaler models\n",
    "\n",
    "### BEGIN SOLUTION\n",
    "X_train_scaled = X_scaler.transform(X_train)\n",
    "X_test_scaled = X_scaler.transform(X_test)\n",
    "# y_train_scaled = y_scaler.transform(y_train)\n",
    "# y_test_scaled = y_scaler.transform(y_test)\n",
    "### END SOLUTION"
   ]
  },
  {
   "cell_type": "code",
   "execution_count": 29,
   "id": "moved-lunch",
   "metadata": {},
   "outputs": [
    {
     "name": "stderr",
     "output_type": "stream",
     "text": [
      "C:\\Users\\13479\\Anaconda3\\envs\\PythonAdv\\lib\\site-packages\\sklearn\\utils\\validation.py:72: DataConversionWarning: A column-vector y was passed when a 1d array was expected. Please change the shape of y to (n_samples, ), for example using ravel().\n",
      "  return f(**kwargs)\n"
     ]
    },
    {
     "data": {
      "text/plain": [
       "LogisticRegression()"
      ]
     },
     "execution_count": 29,
     "metadata": {},
     "output_type": "execute_result"
    }
   ],
   "source": [
    "# # One-hot encoding\n",
    "# y_train_categorical = to_categorical(y_train)\n",
    "# y_test_categorical = to_categorical(y_test)\n",
    "from sklearn.linear_model import LogisticRegression\n",
    "model = LogisticRegression()\n",
    "\n",
    "# Fitting our model with all of our features in data\n",
    "model.fit(X_train_scaled, y_train)\n",
    "\n",
    "# score = model.score(data, target)\n",
    "# print(f\"R2 Score: {score}\")"
   ]
  },
  {
   "cell_type": "code",
   "execution_count": 30,
   "id": "related-jesus",
   "metadata": {},
   "outputs": [
    {
     "name": "stdout",
     "output_type": "stream",
     "text": [
      "0\n",
      "[0]\n"
     ]
    }
   ],
   "source": [
    "### BEGIN SOLUTION\n",
    "predictions = model.predict(X_test_scaled)\n",
    "#model.predict(X_test_scaled)\n",
    "#print(X_test_scaled[0])\n",
    "print(predictions[0])\n",
    "print(y_test[0])\n",
    "#model.fit(X_train_scaled, y_train_scaled)"
   ]
  },
  {
   "cell_type": "code",
   "execution_count": 31,
   "id": "excited-failure",
   "metadata": {},
   "outputs": [
    {
     "data": {
      "text/plain": [
       "0.9952830188679245"
      ]
     },
     "execution_count": 31,
     "metadata": {},
     "output_type": "execute_result"
    }
   ],
   "source": [
    "#predictions = model.predict(X_test_scaled)\n",
    "model.score(X_test_scaled, y_test)\n",
    "#pd.DataFrame({\"Prediction\": predictions, \"Actual\": y_test})"
   ]
  },
  {
   "cell_type": "code",
   "execution_count": 32,
   "id": "worth-going",
   "metadata": {},
   "outputs": [
    {
     "name": "stdout",
     "output_type": "stream",
     "text": [
      "MSE: 0.0047169811320754715, R2: 0.9952830188679245\n"
     ]
    }
   ],
   "source": [
    "# Used X_test_scaled, y_test_scaled, and model.predict(X_test_scaled) to calculate MSE and R2\n",
    "\n",
    "### BEGIN SOLUTION\n",
    "from sklearn.metrics import mean_squared_error\n",
    "\n",
    "MSE = mean_squared_error(y_test, predictions)\n",
    "r2 = model.score(X_test_scaled, y_test)\n",
    "### END SOLUTION\n",
    "\n",
    "print(f\"MSE: {MSE}, R2: {r2}\")"
   ]
  },
  {
   "cell_type": "code",
   "execution_count": 33,
   "id": "competitive-gibson",
   "metadata": {},
   "outputs": [
    {
     "name": "stdout",
     "output_type": "stream",
     "text": [
      "848\n"
     ]
    }
   ],
   "source": [
    "female_predict = sum(predictions)\n",
    "female_actual = sum(y_test)\n",
    "print(female_actual)"
   ]
  },
  {
   "cell_type": "code",
   "execution_count": 34,
   "id": "fundamental-poster",
   "metadata": {},
   "outputs": [
    {
     "name": "stdout",
     "output_type": "stream",
     "text": [
      "              precision    recall  f1-score   support\n",
      "\n",
      "           0       1.00      0.98      0.99       212\n",
      "           1       1.00      1.00      1.00       848\n",
      "\n",
      "    accuracy                           1.00      1060\n",
      "   macro avg       1.00      0.99      0.99      1060\n",
      "weighted avg       1.00      1.00      1.00      1060\n",
      "\n"
     ]
    }
   ],
   "source": [
    "from sklearn.metrics import classification_report\n",
    "predictions = model.predict(X_test_scaled)\n",
    "print(classification_report(y_test, predictions,))"
   ]
  },
  {
   "cell_type": "code",
   "execution_count": 35,
   "id": "cultural-newton",
   "metadata": {},
   "outputs": [
    {
     "data": {
      "text/plain": [
       "['logistic_gender_model.sav']"
      ]
     },
     "execution_count": 35,
     "metadata": {},
     "output_type": "execute_result"
    }
   ],
   "source": [
    "import joblib\n",
    "filename = 'logistic_gender_model.sav'\n",
    "joblib.dump(model, filename)"
   ]
  },
  {
   "cell_type": "code",
   "execution_count": 36,
   "id": "rental-liver",
   "metadata": {},
   "outputs": [
    {
     "data": {
      "text/plain": [
       "['logistic_gender_scaler.sav']"
      ]
     },
     "execution_count": 36,
     "metadata": {},
     "output_type": "execute_result"
    }
   ],
   "source": [
    "filename1 = 'logistic_gender_scaler.sav'\n",
    "joblib.dump(X_scaler, filename1)"
   ]
  },
  {
   "cell_type": "code",
   "execution_count": null,
   "id": "italic-reservoir",
   "metadata": {},
   "outputs": [],
   "source": []
  }
 ],
 "metadata": {
  "kernelspec": {
   "display_name": "Python 3",
   "language": "python",
   "name": "python3"
  },
  "language_info": {
   "codemirror_mode": {
    "name": "ipython",
    "version": 3
   },
   "file_extension": ".py",
   "mimetype": "text/x-python",
   "name": "python",
   "nbconvert_exporter": "python",
   "pygments_lexer": "ipython3",
   "version": "3.6.12"
  },
  "toc": {
   "base_numbering": 1,
   "nav_menu": {},
   "number_sections": true,
   "sideBar": true,
   "skip_h1_title": false,
   "title_cell": "Table of Contents",
   "title_sidebar": "Contents",
   "toc_cell": false,
   "toc_position": {},
   "toc_section_display": true,
   "toc_window_display": false
  },
  "varInspector": {
   "cols": {
    "lenName": 16,
    "lenType": 16,
    "lenVar": 40
   },
   "kernels_config": {
    "python": {
     "delete_cmd_postfix": "",
     "delete_cmd_prefix": "del ",
     "library": "var_list.py",
     "varRefreshCmd": "print(var_dic_list())"
    },
    "r": {
     "delete_cmd_postfix": ") ",
     "delete_cmd_prefix": "rm(",
     "library": "var_list.r",
     "varRefreshCmd": "cat(var_dic_list()) "
    }
   },
   "types_to_exclude": [
    "module",
    "function",
    "builtin_function_or_method",
    "instance",
    "_Feature"
   ],
   "window_display": false
  }
 },
 "nbformat": 4,
 "nbformat_minor": 5
}
