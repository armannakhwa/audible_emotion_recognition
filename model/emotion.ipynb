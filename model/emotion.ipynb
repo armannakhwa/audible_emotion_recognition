{
 "cells": [
  {
   "cell_type": "code",
   "execution_count": 1,
   "id": "electrical-collector",
   "metadata": {},
   "outputs": [
    {
     "name": "stdout",
     "output_type": "stream",
     "text": [
      "Requirement already satisfied: librosa in /Users/timsamson/opt/anaconda3/envs/PythonAdv/lib/python3.6/site-packages (0.8.0)\n",
      "Requirement already satisfied: soundfile>=0.9.0 in /Users/timsamson/opt/anaconda3/envs/PythonAdv/lib/python3.6/site-packages (from librosa) (0.10.3.post1)\n",
      "Requirement already satisfied: scipy>=1.0.0 in /Users/timsamson/opt/anaconda3/envs/PythonAdv/lib/python3.6/site-packages (from librosa) (1.5.2)\n",
      "Requirement already satisfied: numba>=0.43.0 in /Users/timsamson/opt/anaconda3/envs/PythonAdv/lib/python3.6/site-packages (from librosa) (0.52.0)\n",
      "Requirement already satisfied: audioread>=2.0.0 in /Users/timsamson/opt/anaconda3/envs/PythonAdv/lib/python3.6/site-packages (from librosa) (2.1.9)\n",
      "Requirement already satisfied: scikit-learn!=0.19.0,>=0.14.0 in /Users/timsamson/opt/anaconda3/envs/PythonAdv/lib/python3.6/site-packages (from librosa) (0.23.2)\n",
      "Requirement already satisfied: resampy>=0.2.2 in /Users/timsamson/opt/anaconda3/envs/PythonAdv/lib/python3.6/site-packages (from librosa) (0.2.2)\n",
      "Requirement already satisfied: numpy>=1.15.0 in /Users/timsamson/opt/anaconda3/envs/PythonAdv/lib/python3.6/site-packages (from librosa) (1.19.5)\n",
      "Requirement already satisfied: pooch>=1.0 in /Users/timsamson/opt/anaconda3/envs/PythonAdv/lib/python3.6/site-packages (from librosa) (1.3.0)\n",
      "Requirement already satisfied: decorator>=3.0.0 in /Users/timsamson/opt/anaconda3/envs/PythonAdv/lib/python3.6/site-packages (from librosa) (4.4.2)\n",
      "Requirement already satisfied: joblib>=0.14 in /Users/timsamson/opt/anaconda3/envs/PythonAdv/lib/python3.6/site-packages (from librosa) (1.0.0)\n",
      "Requirement already satisfied: setuptools in /Users/timsamson/opt/anaconda3/envs/PythonAdv/lib/python3.6/site-packages (from numba>=0.43.0->librosa) (52.0.0.post20210125)\n",
      "Requirement already satisfied: llvmlite<0.36,>=0.35.0 in /Users/timsamson/opt/anaconda3/envs/PythonAdv/lib/python3.6/site-packages (from numba>=0.43.0->librosa) (0.35.0)\n",
      "Requirement already satisfied: appdirs in /Users/timsamson/opt/anaconda3/envs/PythonAdv/lib/python3.6/site-packages (from pooch>=1.0->librosa) (1.4.4)\n",
      "Requirement already satisfied: packaging in /Users/timsamson/opt/anaconda3/envs/PythonAdv/lib/python3.6/site-packages (from pooch>=1.0->librosa) (20.9)\n",
      "Requirement already satisfied: requests in /Users/timsamson/opt/anaconda3/envs/PythonAdv/lib/python3.6/site-packages (from pooch>=1.0->librosa) (2.25.1)\n",
      "Requirement already satisfied: six>=1.3 in /Users/timsamson/opt/anaconda3/envs/PythonAdv/lib/python3.6/site-packages (from resampy>=0.2.2->librosa) (1.15.0)\n",
      "Requirement already satisfied: threadpoolctl>=2.0.0 in /Users/timsamson/opt/anaconda3/envs/PythonAdv/lib/python3.6/site-packages (from scikit-learn!=0.19.0,>=0.14.0->librosa) (2.1.0)\n",
      "Requirement already satisfied: cffi>=1.0 in /Users/timsamson/opt/anaconda3/envs/PythonAdv/lib/python3.6/site-packages (from soundfile>=0.9.0->librosa) (1.14.4)\n",
      "Requirement already satisfied: pycparser in /Users/timsamson/opt/anaconda3/envs/PythonAdv/lib/python3.6/site-packages (from cffi>=1.0->soundfile>=0.9.0->librosa) (2.20)\n",
      "Requirement already satisfied: pyparsing>=2.0.2 in /Users/timsamson/opt/anaconda3/envs/PythonAdv/lib/python3.6/site-packages (from packaging->pooch>=1.0->librosa) (2.4.7)\n",
      "Requirement already satisfied: certifi>=2017.4.17 in /Users/timsamson/opt/anaconda3/envs/PythonAdv/lib/python3.6/site-packages (from requests->pooch>=1.0->librosa) (2020.12.5)\n",
      "Requirement already satisfied: idna<3,>=2.5 in /Users/timsamson/opt/anaconda3/envs/PythonAdv/lib/python3.6/site-packages (from requests->pooch>=1.0->librosa) (2.10)\n",
      "Requirement already satisfied: urllib3<1.27,>=1.21.1 in /Users/timsamson/opt/anaconda3/envs/PythonAdv/lib/python3.6/site-packages (from requests->pooch>=1.0->librosa) (1.26.3)\n",
      "Requirement already satisfied: chardet<5,>=3.0.2 in /Users/timsamson/opt/anaconda3/envs/PythonAdv/lib/python3.6/site-packages (from requests->pooch>=1.0->librosa) (4.0.0)\n"
     ]
    }
   ],
   "source": [
    "#  Required Install\n",
    "!pip install librosa"
   ]
  },
  {
   "cell_type": "code",
   "execution_count": 8,
   "id": "perceived-landing",
   "metadata": {},
   "outputs": [],
   "source": [
    "#Import Dependencies\n",
    "from pylab import *\n",
    "import os\n",
    "import pandas as pd\n",
    "import librosa\n",
    "import librosa.display\n",
    "import glob"
   ]
  },
  {
   "cell_type": "markdown",
   "id": "sunrise-yemen",
   "metadata": {},
   "source": [
    "# Sample one audio File"
   ]
  },
  {
   "cell_type": "code",
   "execution_count": 108,
   "id": "qualified-listening",
   "metadata": {},
   "outputs": [
    {
     "name": "stdout",
     "output_type": "stream",
     "text": [
      "[-5.2936412e-07  5.2245684e-07 -4.8367059e-07 ... -7.7196285e-07\n",
      "  7.8327724e-07  0.0000000e+00] 22050\n"
     ]
    },
    {
     "data": {
      "text/plain": [
       "<matplotlib.collections.PolyCollection at 0x7fb2f7811518>"
      ]
     },
     "execution_count": 108,
     "metadata": {},
     "output_type": "execute_result"
    },
    {
     "data": {
      "image/png": "[encoded data removed]",
      "text/plain": [
       "<Figure size 864x288 with 1 Axes>"
      ]
     },
     "metadata": {
      "needs_background": "light"
     },
     "output_type": "display_data"
    }
   ],
   "source": [
    "data, sampling_rate = librosa.load('../data/emotion_speech/03-01-06-01-02-02-02.wav')\n",
    "plt.figure(figsize=(12, 4))\n",
    "\n",
    "print(data, sampling_rate)\n",
    "librosa.display.waveplot(data, sr=sampling_rate)"
   ]
  },
  {
   "cell_type": "markdown",
   "id": "boolean-research",
   "metadata": {},
   "source": [
    "# Generate list of file and apply emotion str"
   ]
  },
  {
   "cell_type": "code",
   "execution_count": 176,
   "id": "legitimate-reform",
   "metadata": {},
   "outputs": [
    {
     "data": {
      "text/html": [
       "<div>\n",
       "<style scoped>\n",
       "    .dataframe tbody tr th:only-of-type {\n",
       "        vertical-align: middle;\n",
       "    }\n",
       "\n",
       "    .dataframe tbody tr th {\n",
       "        vertical-align: top;\n",
       "    }\n",
       "\n",
       "    .dataframe thead th {\n",
       "        text-align: right;\n",
       "    }\n",
       "</style>\n",
       "<table border=\"1\" class=\"dataframe\">\n",
       "  <thead>\n",
       "    <tr style=\"text-align: right;\">\n",
       "      <th></th>\n",
       "      <th>file_name</th>\n",
       "      <th>encoding</th>\n",
       "      <th>ID</th>\n",
       "    </tr>\n",
       "  </thead>\n",
       "  <tbody>\n",
       "    <tr>\n",
       "      <th>0</th>\n",
       "      <td>03-01-06-01-02-02-02.wav</td>\n",
       "      <td>03-01-06-01-02-02-02.wav</td>\n",
       "      <td>0</td>\n",
       "    </tr>\n",
       "    <tr>\n",
       "      <th>1</th>\n",
       "      <td>03-01-05-01-02-01-16.wav</td>\n",
       "      <td>03-01-05-01-02-01-16.wav</td>\n",
       "      <td>1</td>\n",
       "    </tr>\n",
       "    <tr>\n",
       "      <th>2</th>\n",
       "      <td>03-01-08-01-01-01-14.wav</td>\n",
       "      <td>03-01-08-01-01-01-14.wav</td>\n",
       "      <td>2</td>\n",
       "    </tr>\n",
       "    <tr>\n",
       "      <th>3</th>\n",
       "      <td>03-01-06-01-02-02-16.wav</td>\n",
       "      <td>03-01-06-01-02-02-16.wav</td>\n",
       "      <td>3</td>\n",
       "    </tr>\n",
       "    <tr>\n",
       "      <th>4</th>\n",
       "      <td>03-01-05-01-02-01-02.wav</td>\n",
       "      <td>03-01-05-01-02-01-02.wav</td>\n",
       "      <td>4</td>\n",
       "    </tr>\n",
       "    <tr>\n",
       "      <th>...</th>\n",
       "      <td>...</td>\n",
       "      <td>...</td>\n",
       "      <td>...</td>\n",
       "    </tr>\n",
       "    <tr>\n",
       "      <th>1436</th>\n",
       "      <td>03-01-08-02-02-01-19.wav</td>\n",
       "      <td>03-01-08-02-02-01-19.wav</td>\n",
       "      <td>1436</td>\n",
       "    </tr>\n",
       "    <tr>\n",
       "      <th>1437</th>\n",
       "      <td>03-01-02-02-01-01-23.wav</td>\n",
       "      <td>03-01-02-02-01-01-23.wav</td>\n",
       "      <td>1437</td>\n",
       "    </tr>\n",
       "    <tr>\n",
       "      <th>1438</th>\n",
       "      <td>03-01-02-01-02-01-23.wav</td>\n",
       "      <td>03-01-02-01-02-01-23.wav</td>\n",
       "      <td>1438</td>\n",
       "    </tr>\n",
       "    <tr>\n",
       "      <th>1439</th>\n",
       "      <td>03-01-08-01-01-01-19.wav</td>\n",
       "      <td>03-01-08-01-01-01-19.wav</td>\n",
       "      <td>1439</td>\n",
       "    </tr>\n",
       "    <tr>\n",
       "      <th>1440</th>\n",
       "      <td>03-01-01-01-02-02-23.wav</td>\n",
       "      <td>03-01-01-01-02-02-23.wav</td>\n",
       "      <td>1440</td>\n",
       "    </tr>\n",
       "  </tbody>\n",
       "</table>\n",
       "<p>1441 rows × 3 columns</p>\n",
       "</div>"
      ],
      "text/plain": [
       "                     file_name                  encoding    ID\n",
       "0     03-01-06-01-02-02-02.wav  03-01-06-01-02-02-02.wav     0\n",
       "1     03-01-05-01-02-01-16.wav  03-01-05-01-02-01-16.wav     1\n",
       "2     03-01-08-01-01-01-14.wav  03-01-08-01-01-01-14.wav     2\n",
       "3     03-01-06-01-02-02-16.wav  03-01-06-01-02-02-16.wav     3\n",
       "4     03-01-05-01-02-01-02.wav  03-01-05-01-02-01-02.wav     4\n",
       "...                        ...                       ...   ...\n",
       "1436  03-01-08-02-02-01-19.wav  03-01-08-02-02-01-19.wav  1436\n",
       "1437  03-01-02-02-01-01-23.wav  03-01-02-02-01-01-23.wav  1437\n",
       "1438  03-01-02-01-02-01-23.wav  03-01-02-01-02-01-23.wav  1438\n",
       "1439  03-01-08-01-01-01-19.wav  03-01-08-01-01-01-19.wav  1439\n",
       "1440  03-01-01-01-02-02-23.wav  03-01-01-01-02-02-23.wav  1440\n",
       "\n",
       "[1441 rows x 3 columns]"
      ]
     },
     "execution_count": 176,
     "metadata": {},
     "output_type": "execute_result"
    }
   ],
   "source": [
    "##Get list of Files in folder\n",
    "file_name = []\n",
    "\n",
    "for root, dirs, files in os.walk(\"../data/emotion_speech/.\"):\n",
    "    for filename in files:\n",
    "        file_name.append(filename)\n",
    "\n",
    "file_name_df = pd.DataFrame(file_name, columns = ['file_name'])\n",
    "file_name_df['encoding']= file_name_df['file_name']\n",
    "file_name_df['ID'] = file_name_df.index \n",
    "file_name_df"
   ]
  },
  {
   "cell_type": "code",
   "execution_count": 241,
   "id": "greater-sheffield",
   "metadata": {},
   "outputs": [
    {
     "data": {
      "text/html": [
       "<div>\n",
       "<style scoped>\n",
       "    .dataframe tbody tr th:only-of-type {\n",
       "        vertical-align: middle;\n",
       "    }\n",
       "\n",
       "    .dataframe tbody tr th {\n",
       "        vertical-align: top;\n",
       "    }\n",
       "\n",
       "    .dataframe thead th {\n",
       "        text-align: right;\n",
       "    }\n",
       "</style>\n",
       "<table border=\"1\" class=\"dataframe\">\n",
       "  <thead>\n",
       "    <tr style=\"text-align: right;\">\n",
       "      <th></th>\n",
       "      <th>Class</th>\n",
       "      <th>Emotion</th>\n",
       "    </tr>\n",
       "  </thead>\n",
       "  <tbody>\n",
       "    <tr>\n",
       "      <th>0</th>\n",
       "      <td>06</td>\n",
       "      <td>fearful</td>\n",
       "    </tr>\n",
       "    <tr>\n",
       "      <th>1</th>\n",
       "      <td>05</td>\n",
       "      <td>angry</td>\n",
       "    </tr>\n",
       "    <tr>\n",
       "      <th>2</th>\n",
       "      <td>08</td>\n",
       "      <td>surprise</td>\n",
       "    </tr>\n",
       "    <tr>\n",
       "      <th>3</th>\n",
       "      <td>06</td>\n",
       "      <td>fearful</td>\n",
       "    </tr>\n",
       "    <tr>\n",
       "      <th>4</th>\n",
       "      <td>05</td>\n",
       "      <td>angry</td>\n",
       "    </tr>\n",
       "    <tr>\n",
       "      <th>...</th>\n",
       "      <td>...</td>\n",
       "      <td>...</td>\n",
       "    </tr>\n",
       "    <tr>\n",
       "      <th>1436</th>\n",
       "      <td>08</td>\n",
       "      <td>surprise</td>\n",
       "    </tr>\n",
       "    <tr>\n",
       "      <th>1437</th>\n",
       "      <td>02</td>\n",
       "      <td>calm</td>\n",
       "    </tr>\n",
       "    <tr>\n",
       "      <th>1438</th>\n",
       "      <td>02</td>\n",
       "      <td>calm</td>\n",
       "    </tr>\n",
       "    <tr>\n",
       "      <th>1439</th>\n",
       "      <td>08</td>\n",
       "      <td>surprise</td>\n",
       "    </tr>\n",
       "    <tr>\n",
       "      <th>1440</th>\n",
       "      <td>01</td>\n",
       "      <td>nuteral</td>\n",
       "    </tr>\n",
       "  </tbody>\n",
       "</table>\n",
       "<p>1441 rows × 2 columns</p>\n",
       "</div>"
      ],
      "text/plain": [
       "     Class   Emotion\n",
       "0       06   fearful\n",
       "1       05     angry\n",
       "2       08  surprise\n",
       "3       06   fearful\n",
       "4       05     angry\n",
       "...    ...       ...\n",
       "1436    08  surprise\n",
       "1437    02      calm\n",
       "1438    02      calm\n",
       "1439    08  surprise\n",
       "1440    01   nuteral\n",
       "\n",
       "[1441 rows x 2 columns]"
      ]
     },
     "execution_count": 241,
     "metadata": {},
     "output_type": "execute_result"
    }
   ],
   "source": [
    "#Create DF seperating Values\n",
    "# Filename identifiers\n",
    "\n",
    "# Modality (01 = full-AV, 02 = video-only, 03 = audio-only).\n",
    "# Vocal channel (01 = speech, 02 = song).\n",
    "# Emotion (01 = neutral, 02 = calm, 03 = happy, 04 = sad, 05 = angry, 06 = fearful, 07 = disgust, 08 = surprised).\n",
    "# Emotional intensity (01 = normal, 02 = strong). NOTE: There is no strong intensity for the 'neutral' emotion.\n",
    "# Statement (01 = \"Kids are talking by the door\", 02 = \"Dogs are sitting by the door\").\n",
    "# Repetition (01 = 1st repetition, 02 = 2nd repetition).\n",
    "# Actor (01 to 24. Odd numbered actors are male, even numbered actors are female).\n",
    "\n",
    "encoding_df = file_name_df[\"encoding\"].str.split(\"-\", n=-1, expand=True)\n",
    "encoding_df.columns = ['Modality','Vocal_channel','Class','Intensity','Statement','Repetition','Actor']\n",
    "final_df = encoding_df.drop(columns=['Modality','Vocal_channel','Intensity','Statement','Repetition','Actor'])\n",
    "\n",
    "final_df.loc[final_df.Class == '01', 'Emotion'] = 'nuteral'\n",
    "final_df.loc[final_df.Class == '02', 'Emotion'] = 'calm'\n",
    "final_df.loc[final_df.Class == '03', 'Emotion'] = 'happy'\n",
    "final_df.loc[final_df.Class == '04', 'Emotion'] = 'sad'\n",
    "final_df.loc[final_df.Class == '05', 'Emotion'] = 'angry'\n",
    "final_df.loc[final_df.Class == '06', 'Emotion'] = 'fearful'\n",
    "final_df.loc[final_df.Class == '07', 'Emotion'] = 'disgust'\n",
    "final_df.loc[final_df.Class == '08', 'Emotion'] = 'surprise'\n",
    "\n",
    "final_df"
   ]
  },
  {
   "cell_type": "code",
   "execution_count": 242,
   "id": "united-universe",
   "metadata": {},
   "outputs": [
    {
     "data": {
      "text/html": [
       "<div>\n",
       "<style scoped>\n",
       "    .dataframe tbody tr th:only-of-type {\n",
       "        vertical-align: middle;\n",
       "    }\n",
       "\n",
       "    .dataframe tbody tr th {\n",
       "        vertical-align: top;\n",
       "    }\n",
       "\n",
       "    .dataframe thead th {\n",
       "        text-align: right;\n",
       "    }\n",
       "</style>\n",
       "<table border=\"1\" class=\"dataframe\">\n",
       "  <thead>\n",
       "    <tr style=\"text-align: right;\">\n",
       "      <th></th>\n",
       "      <th>file_name</th>\n",
       "      <th>Class</th>\n",
       "      <th>Emotion</th>\n",
       "    </tr>\n",
       "    <tr>\n",
       "      <th>ID</th>\n",
       "      <th></th>\n",
       "      <th></th>\n",
       "      <th></th>\n",
       "    </tr>\n",
       "  </thead>\n",
       "  <tbody>\n",
       "    <tr>\n",
       "      <th>0</th>\n",
       "      <td>03-01-06-01-02-02-02.wav</td>\n",
       "      <td>06</td>\n",
       "      <td>fearful</td>\n",
       "    </tr>\n",
       "    <tr>\n",
       "      <th>1</th>\n",
       "      <td>03-01-05-01-02-01-16.wav</td>\n",
       "      <td>05</td>\n",
       "      <td>angry</td>\n",
       "    </tr>\n",
       "    <tr>\n",
       "      <th>2</th>\n",
       "      <td>03-01-08-01-01-01-14.wav</td>\n",
       "      <td>08</td>\n",
       "      <td>surprise</td>\n",
       "    </tr>\n",
       "    <tr>\n",
       "      <th>3</th>\n",
       "      <td>03-01-06-01-02-02-16.wav</td>\n",
       "      <td>06</td>\n",
       "      <td>fearful</td>\n",
       "    </tr>\n",
       "    <tr>\n",
       "      <th>4</th>\n",
       "      <td>03-01-05-01-02-01-02.wav</td>\n",
       "      <td>05</td>\n",
       "      <td>angry</td>\n",
       "    </tr>\n",
       "    <tr>\n",
       "      <th>...</th>\n",
       "      <td>...</td>\n",
       "      <td>...</td>\n",
       "      <td>...</td>\n",
       "    </tr>\n",
       "    <tr>\n",
       "      <th>1436</th>\n",
       "      <td>03-01-08-02-02-01-19.wav</td>\n",
       "      <td>08</td>\n",
       "      <td>surprise</td>\n",
       "    </tr>\n",
       "    <tr>\n",
       "      <th>1437</th>\n",
       "      <td>03-01-02-02-01-01-23.wav</td>\n",
       "      <td>02</td>\n",
       "      <td>calm</td>\n",
       "    </tr>\n",
       "    <tr>\n",
       "      <th>1438</th>\n",
       "      <td>03-01-02-01-02-01-23.wav</td>\n",
       "      <td>02</td>\n",
       "      <td>calm</td>\n",
       "    </tr>\n",
       "    <tr>\n",
       "      <th>1439</th>\n",
       "      <td>03-01-08-01-01-01-19.wav</td>\n",
       "      <td>08</td>\n",
       "      <td>surprise</td>\n",
       "    </tr>\n",
       "    <tr>\n",
       "      <th>1440</th>\n",
       "      <td>03-01-01-01-02-02-23.wav</td>\n",
       "      <td>01</td>\n",
       "      <td>nuteral</td>\n",
       "    </tr>\n",
       "  </tbody>\n",
       "</table>\n",
       "<p>1441 rows × 3 columns</p>\n",
       "</div>"
      ],
      "text/plain": [
       "                     file_name Class   Emotion\n",
       "ID                                            \n",
       "0     03-01-06-01-02-02-02.wav    06   fearful\n",
       "1     03-01-05-01-02-01-16.wav    05     angry\n",
       "2     03-01-08-01-01-01-14.wav    08  surprise\n",
       "3     03-01-06-01-02-02-16.wav    06   fearful\n",
       "4     03-01-05-01-02-01-02.wav    05     angry\n",
       "...                        ...   ...       ...\n",
       "1436  03-01-08-02-02-01-19.wav    08  surprise\n",
       "1437  03-01-02-02-01-01-23.wav    02      calm\n",
       "1438  03-01-02-01-02-01-23.wav    02      calm\n",
       "1439  03-01-08-01-01-01-19.wav    08  surprise\n",
       "1440  03-01-01-01-02-02-23.wav    01   nuteral\n",
       "\n",
       "[1441 rows x 3 columns]"
      ]
     },
     "execution_count": 242,
     "metadata": {},
     "output_type": "execute_result"
    }
   ],
   "source": [
    "#merge data frame and export CSV\n",
    "pre_merged_df = file_name_df.join(final_df, how='outer')\n",
    "merged_df = pre_merged_df.drop(columns=['encoding'])\n",
    "merged_df.set_index('ID')"
   ]
  },
  {
   "cell_type": "code",
   "execution_count": 243,
   "id": "annoying-schedule",
   "metadata": {},
   "outputs": [],
   "source": [
    "merged_df.to_csv(r'../data/voice_train.csv', index = True)"
   ]
  },
  {
   "cell_type": "code",
   "execution_count": 244,
   "id": "fantastic-yugoslavia",
   "metadata": {},
   "outputs": [
    {
     "data": {
      "text/html": [
       "<div>\n",
       "<style scoped>\n",
       "    .dataframe tbody tr th:only-of-type {\n",
       "        vertical-align: middle;\n",
       "    }\n",
       "\n",
       "    .dataframe tbody tr th {\n",
       "        vertical-align: top;\n",
       "    }\n",
       "\n",
       "    .dataframe thead th {\n",
       "        text-align: right;\n",
       "    }\n",
       "</style>\n",
       "<table border=\"1\" class=\"dataframe\">\n",
       "  <thead>\n",
       "    <tr style=\"text-align: right;\">\n",
       "      <th></th>\n",
       "      <th>Unnamed: 0</th>\n",
       "      <th>file_name</th>\n",
       "      <th>ID</th>\n",
       "      <th>Class</th>\n",
       "      <th>Emotion</th>\n",
       "    </tr>\n",
       "  </thead>\n",
       "  <tbody>\n",
       "    <tr>\n",
       "      <th>0</th>\n",
       "      <td>0</td>\n",
       "      <td>03-01-06-01-02-02-02.wav</td>\n",
       "      <td>0</td>\n",
       "      <td>6.0</td>\n",
       "      <td>fearful</td>\n",
       "    </tr>\n",
       "    <tr>\n",
       "      <th>1</th>\n",
       "      <td>1</td>\n",
       "      <td>03-01-05-01-02-01-16.wav</td>\n",
       "      <td>1</td>\n",
       "      <td>5.0</td>\n",
       "      <td>angry</td>\n",
       "    </tr>\n",
       "    <tr>\n",
       "      <th>2</th>\n",
       "      <td>2</td>\n",
       "      <td>03-01-08-01-01-01-14.wav</td>\n",
       "      <td>2</td>\n",
       "      <td>8.0</td>\n",
       "      <td>surprise</td>\n",
       "    </tr>\n",
       "    <tr>\n",
       "      <th>3</th>\n",
       "      <td>3</td>\n",
       "      <td>03-01-06-01-02-02-16.wav</td>\n",
       "      <td>3</td>\n",
       "      <td>6.0</td>\n",
       "      <td>fearful</td>\n",
       "    </tr>\n",
       "    <tr>\n",
       "      <th>4</th>\n",
       "      <td>4</td>\n",
       "      <td>03-01-05-01-02-01-02.wav</td>\n",
       "      <td>4</td>\n",
       "      <td>5.0</td>\n",
       "      <td>angry</td>\n",
       "    </tr>\n",
       "  </tbody>\n",
       "</table>\n",
       "</div>"
      ],
      "text/plain": [
       "   Unnamed: 0                 file_name  ID  Class   Emotion\n",
       "0           0  03-01-06-01-02-02-02.wav   0    6.0   fearful\n",
       "1           1  03-01-05-01-02-01-16.wav   1    5.0     angry\n",
       "2           2  03-01-08-01-01-01-14.wav   2    8.0  surprise\n",
       "3           3  03-01-06-01-02-02-16.wav   3    6.0   fearful\n",
       "4           4  03-01-05-01-02-01-02.wav   4    5.0     angry"
      ]
     },
     "execution_count": 244,
     "metadata": {},
     "output_type": "execute_result"
    }
   ],
   "source": [
    "train = pd.read_csv('../data/voice_train.csv')\n",
    "data_dir = ('../data')\n",
    "train.head()"
   ]
  },
  {
   "cell_type": "code",
   "execution_count": 245,
   "id": "noted-peninsula",
   "metadata": {},
   "outputs": [
    {
     "name": "stdout",
     "output_type": "stream",
     "text": [
      "Class:  7.0\n"
     ]
    },
    {
     "data": {
      "text/plain": [
       "<matplotlib.collections.PolyCollection at 0x7fb2f6e024a8>"
      ]
     },
     "execution_count": 245,
     "metadata": {},
     "output_type": "execute_result"
    },
    {
     "data": {
      "image/png": "[encoded data removed]",
      "text/plain": [
       "<Figure size 864x288 with 1 Axes>"
      ]
     },
     "metadata": {
      "needs_background": "light"
     },
     "output_type": "display_data"
    }
   ],
   "source": [
    "#examine sample of data set\n",
    "i = random.choice(train.index)\n",
    "\n",
    "audio_name = train.ID[i]\n",
    "path = os.path.join(data_dir, 'Train', str(file_name) + '.wav')\n",
    "\n",
    "print('Class: ', train.Class[i])\n",
    "x, sr = librosa.load('../data/Train/' + str(train.ID[i]) + '.wav')\n",
    "\n",
    "plt.figure(figsize=(12, 4))\n",
    "librosa.display.waveplot(x, sr=sr)"
   ]
  },
  {
   "cell_type": "code",
   "execution_count": 246,
   "id": "twelve-scholar",
   "metadata": {},
   "outputs": [
    {
     "data": {
      "text/plain": [
       "7.0    192\n",
       "4.0    192\n",
       "3.0    192\n",
       "2.0    192\n",
       "8.0    192\n",
       "5.0    192\n",
       "6.0    192\n",
       "1.0     96\n",
       "Name: Class, dtype: int64"
      ]
     },
     "execution_count": 246,
     "metadata": {},
     "output_type": "execute_result"
    }
   ],
   "source": [
    "train.Class.value_counts()"
   ]
  },
  {
   "cell_type": "code",
   "execution_count": 186,
   "id": "structural-search",
   "metadata": {},
   "outputs": [],
   "source": [
    "# test = pd.read_csv('../data/test.csv')\n",
    "# test['Class'] = 'jackhammer'\n",
    "# test.to_csv(‘sub01.csv’, index=False)"
   ]
  },
  {
   "cell_type": "code",
   "execution_count": 247,
   "id": "cubic-prevention",
   "metadata": {},
   "outputs": [
    {
     "name": "stderr",
     "output_type": "stream",
     "text": [
      "/Users/timsamson/opt/anaconda3/envs/PythonAdv/lib/python3.6/site-packages/librosa/core/audio.py:162: UserWarning: PySoundFile failed. Trying audioread instead.\n",
      "  warnings.warn(\"PySoundFile failed. Trying audioread instead.\")\n"
     ]
    },
    {
     "name": "stdout",
     "output_type": "stream",
     "text": [
      "Error encountered while parsing file:  /Users/timsamson/Desktop/Bootcamp/audible_emotion_recognition/data/emotion_speech/.DS_Store\n"
     ]
    }
   ],
   "source": [
    "def parser(row):\n",
    "   # function to load files and extract features\n",
    "   file_name = os.path.join(os.path.abspath(data_dir), 'emotion_speech', str(row.file_name))\n",
    "\n",
    "   # handle exception to check if there isn't a file which is corrupted\n",
    "   try:\n",
    "      # here kaiser_fast is a technique used for faster extraction\n",
    "      X, sample_rate = librosa.load(file_name, res_type='kaiser_fast') \n",
    "      # we extract mfcc feature from data\n",
    "      mfccs = np.mean(librosa.feature.mfcc(y=X, sr=sample_rate, n_mfcc=40).T,axis=0) \n",
    "   except Exception as e:\n",
    "      print(\"Error encountered while parsing file: \", file_name)\n",
    "      return None, None\n",
    " \n",
    "   feature = mfccs\n",
    "   label = row.Class\n",
    " \n",
    "   return [feature, label]\n",
    "\n",
    "temp = train.apply(parser, axis=1)"
   ]
  },
  {
   "cell_type": "code",
   "execution_count": 248,
   "id": "numeric-worthy",
   "metadata": {},
   "outputs": [
    {
     "name": "stdout",
     "output_type": "stream",
     "text": [
      "                                                feature  label\n",
      "0     [-573.37915, 34.06404, -33.337578, 3.4899156, ...    6.0\n",
      "1     [-545.24457, 38.073475, -8.023163, 7.236882, -...    5.0\n",
      "2     [-690.53546, 43.141396, -9.854416, 10.81954, -...    8.0\n",
      "3     [-553.61163, 41.233486, -9.912664, 8.587062, -...    6.0\n",
      "4     [-576.15344, 49.947994, -13.857949, 8.248825, ...    5.0\n",
      "...                                                 ...    ...\n",
      "1436  [-607.41235, 73.06141, 1.1748316, 20.54036, -1...    8.0\n",
      "1437  [-666.96967, 69.046394, -2.7987325, 13.330524,...    2.0\n",
      "1438  [-661.24243, 58.808914, -4.742551, 11.481025, ...    2.0\n",
      "1439  [-662.11896, 77.85608, 5.2998877, 22.13716, 1....    8.0\n",
      "1440  [-627.04663, 65.36454, -8.032422, 10.3970175, ...    1.0\n",
      "\n",
      "[1441 rows x 2 columns]\n"
     ]
    }
   ],
   "source": [
    "# audio = pd.DataFrame(temp)\n",
    "audio = pd.DataFrame(temp.tolist(), index= temp.index)\n",
    "audio.columns = ['feature', 'label']\n",
    "print(audio)"
   ]
  },
  {
   "cell_type": "code",
   "execution_count": 249,
   "id": "incorrect-communication",
   "metadata": {},
   "outputs": [
    {
     "data": {
      "text/html": [
       "<div>\n",
       "<style scoped>\n",
       "    .dataframe tbody tr th:only-of-type {\n",
       "        vertical-align: middle;\n",
       "    }\n",
       "\n",
       "    .dataframe tbody tr th {\n",
       "        vertical-align: top;\n",
       "    }\n",
       "\n",
       "    .dataframe thead th {\n",
       "        text-align: right;\n",
       "    }\n",
       "</style>\n",
       "<table border=\"1\" class=\"dataframe\">\n",
       "  <thead>\n",
       "    <tr style=\"text-align: right;\">\n",
       "      <th></th>\n",
       "      <th>feature</th>\n",
       "      <th>label</th>\n",
       "    </tr>\n",
       "  </thead>\n",
       "  <tbody>\n",
       "    <tr>\n",
       "      <th>0</th>\n",
       "      <td>[-573.37915, 34.06404, -33.337578, 3.4899156, ...</td>\n",
       "      <td>6</td>\n",
       "    </tr>\n",
       "    <tr>\n",
       "      <th>1</th>\n",
       "      <td>[-545.24457, 38.073475, -8.023163, 7.236882, -...</td>\n",
       "      <td>5</td>\n",
       "    </tr>\n",
       "    <tr>\n",
       "      <th>2</th>\n",
       "      <td>[-690.53546, 43.141396, -9.854416, 10.81954, -...</td>\n",
       "      <td>8</td>\n",
       "    </tr>\n",
       "    <tr>\n",
       "      <th>3</th>\n",
       "      <td>[-553.61163, 41.233486, -9.912664, 8.587062, -...</td>\n",
       "      <td>6</td>\n",
       "    </tr>\n",
       "    <tr>\n",
       "      <th>4</th>\n",
       "      <td>[-576.15344, 49.947994, -13.857949, 8.248825, ...</td>\n",
       "      <td>5</td>\n",
       "    </tr>\n",
       "    <tr>\n",
       "      <th>...</th>\n",
       "      <td>...</td>\n",
       "      <td>...</td>\n",
       "    </tr>\n",
       "    <tr>\n",
       "      <th>1436</th>\n",
       "      <td>[-607.41235, 73.06141, 1.1748316, 20.54036, -1...</td>\n",
       "      <td>8</td>\n",
       "    </tr>\n",
       "    <tr>\n",
       "      <th>1437</th>\n",
       "      <td>[-666.96967, 69.046394, -2.7987325, 13.330524,...</td>\n",
       "      <td>2</td>\n",
       "    </tr>\n",
       "    <tr>\n",
       "      <th>1438</th>\n",
       "      <td>[-661.24243, 58.808914, -4.742551, 11.481025, ...</td>\n",
       "      <td>2</td>\n",
       "    </tr>\n",
       "    <tr>\n",
       "      <th>1439</th>\n",
       "      <td>[-662.11896, 77.85608, 5.2998877, 22.13716, 1....</td>\n",
       "      <td>8</td>\n",
       "    </tr>\n",
       "    <tr>\n",
       "      <th>1440</th>\n",
       "      <td>[-627.04663, 65.36454, -8.032422, 10.3970175, ...</td>\n",
       "      <td>1</td>\n",
       "    </tr>\n",
       "  </tbody>\n",
       "</table>\n",
       "<p>1441 rows × 2 columns</p>\n",
       "</div>"
      ],
      "text/plain": [
       "                                                feature label\n",
       "0     [-573.37915, 34.06404, -33.337578, 3.4899156, ...     6\n",
       "1     [-545.24457, 38.073475, -8.023163, 7.236882, -...     5\n",
       "2     [-690.53546, 43.141396, -9.854416, 10.81954, -...     8\n",
       "3     [-553.61163, 41.233486, -9.912664, 8.587062, -...     6\n",
       "4     [-576.15344, 49.947994, -13.857949, 8.248825, ...     5\n",
       "...                                                 ...   ...\n",
       "1436  [-607.41235, 73.06141, 1.1748316, 20.54036, -1...     8\n",
       "1437  [-666.96967, 69.046394, -2.7987325, 13.330524,...     2\n",
       "1438  [-661.24243, 58.808914, -4.742551, 11.481025, ...     2\n",
       "1439  [-662.11896, 77.85608, 5.2998877, 22.13716, 1....     8\n",
       "1440  [-627.04663, 65.36454, -8.032422, 10.3970175, ...     1\n",
       "\n",
       "[1441 rows x 2 columns]"
      ]
     },
     "execution_count": 249,
     "metadata": {},
     "output_type": "execute_result"
    }
   ],
   "source": [
    "#set list as object\n",
    "new_audio= audio.astype(object)\n",
    "new_audio"
   ]
  },
  {
   "cell_type": "code",
   "execution_count": 250,
   "id": "popular-newspaper",
   "metadata": {},
   "outputs": [],
   "source": [
    "#Write to CSV\n",
    "new_audio.to_csv('../data/modeltrain.csv')"
   ]
  },
  {
   "cell_type": "code",
   "execution_count": 251,
   "id": "noticed-wallace",
   "metadata": {},
   "outputs": [
    {
     "name": "stderr",
     "output_type": "stream",
     "text": [
      "/Users/timsamson/opt/anaconda3/envs/PythonAdv/lib/python3.6/site-packages/ipykernel_launcher.py:3: VisibleDeprecationWarning: Creating an ndarray from ragged nested sequences (which is a list-or-tuple of lists-or-tuples-or ndarrays with different lengths or shapes) is deprecated. If you meant to do this, you must specify 'dtype=object' when creating the ndarray\n",
      "  This is separate from the ipykernel package so we can avoid doing imports until\n"
     ]
    }
   ],
   "source": [
    "from sklearn.preprocessing import LabelEncoder\n",
    "\n",
    "X = np.array(new_audio.feature.tolist())\n",
    "y = np.array(new_audio.label.tolist())\n",
    "\n",
    "lb = LabelEncoder()\n",
    "\n",
    "y = np_utils.to_categorical(lb.fit_transform(y))"
   ]
  },
  {
   "cell_type": "code",
   "execution_count": 256,
   "id": "related-jesus",
   "metadata": {},
   "outputs": [
    {
     "ename": "TypeError",
     "evalue": "The added layer must be an instance of class Layer. Found: <keras.layers.core.Dense object at 0x7fb2f9a060f0>",
     "output_type": "error",
     "traceback": [
      "\u001b[0;31m---------------------------------------------------------------------------\u001b[0m",
      "\u001b[0;31mTypeError\u001b[0m                                 Traceback (most recent call last)",
      "\u001b[0;32m<ipython-input-256-22d12170e7e3>\u001b[0m in \u001b[0;36m<module>\u001b[0;34m\u001b[0m\n\u001b[1;32m     14\u001b[0m \u001b[0mmodel\u001b[0m \u001b[0;34m=\u001b[0m \u001b[0mtensorflow\u001b[0m\u001b[0;34m.\u001b[0m\u001b[0mkeras\u001b[0m\u001b[0;34m.\u001b[0m\u001b[0mSequential\u001b[0m\u001b[0;34m(\u001b[0m\u001b[0;34m)\u001b[0m\u001b[0;34m\u001b[0m\u001b[0;34m\u001b[0m\u001b[0m\n\u001b[1;32m     15\u001b[0m \u001b[0;34m\u001b[0m\u001b[0m\n\u001b[0;32m---> 16\u001b[0;31m \u001b[0mmodel\u001b[0m\u001b[0;34m.\u001b[0m\u001b[0madd\u001b[0m\u001b[0;34m(\u001b[0m\u001b[0mDense\u001b[0m\u001b[0;34m(\u001b[0m\u001b[0;36m256\u001b[0m\u001b[0;34m,\u001b[0m \u001b[0minput_shape\u001b[0m\u001b[0;34m=\u001b[0m\u001b[0;34m(\u001b[0m\u001b[0;36m40\u001b[0m\u001b[0;34m,\u001b[0m\u001b[0;34m)\u001b[0m\u001b[0;34m)\u001b[0m\u001b[0;34m)\u001b[0m\u001b[0;34m\u001b[0m\u001b[0;34m\u001b[0m\u001b[0m\n\u001b[0m\u001b[1;32m     17\u001b[0m \u001b[0mmodel\u001b[0m\u001b[0;34m.\u001b[0m\u001b[0madd\u001b[0m\u001b[0;34m(\u001b[0m\u001b[0mActivation\u001b[0m\u001b[0;34m(\u001b[0m\u001b[0;34m'relu'\u001b[0m\u001b[0;34m)\u001b[0m\u001b[0;34m)\u001b[0m\u001b[0;34m\u001b[0m\u001b[0;34m\u001b[0m\u001b[0m\n\u001b[1;32m     18\u001b[0m \u001b[0mmodel\u001b[0m\u001b[0;34m.\u001b[0m\u001b[0madd\u001b[0m\u001b[0;34m(\u001b[0m\u001b[0mDropout\u001b[0m\u001b[0;34m(\u001b[0m\u001b[0;36m0.5\u001b[0m\u001b[0;34m)\u001b[0m\u001b[0;34m)\u001b[0m\u001b[0;34m\u001b[0m\u001b[0;34m\u001b[0m\u001b[0m\n",
      "\u001b[0;32m~/opt/anaconda3/envs/PythonAdv/lib/python3.6/site-packages/tensorflow/python/training/tracking/base.py\u001b[0m in \u001b[0;36m_method_wrapper\u001b[0;34m(self, *args, **kwargs)\u001b[0m\n\u001b[1;32m    515\u001b[0m     \u001b[0mself\u001b[0m\u001b[0;34m.\u001b[0m\u001b[0m_self_setattr_tracking\u001b[0m \u001b[0;34m=\u001b[0m \u001b[0;32mFalse\u001b[0m  \u001b[0;31m# pylint: disable=protected-access\u001b[0m\u001b[0;34m\u001b[0m\u001b[0;34m\u001b[0m\u001b[0m\n\u001b[1;32m    516\u001b[0m     \u001b[0;32mtry\u001b[0m\u001b[0;34m:\u001b[0m\u001b[0;34m\u001b[0m\u001b[0;34m\u001b[0m\u001b[0m\n\u001b[0;32m--> 517\u001b[0;31m       \u001b[0mresult\u001b[0m \u001b[0;34m=\u001b[0m \u001b[0mmethod\u001b[0m\u001b[0;34m(\u001b[0m\u001b[0mself\u001b[0m\u001b[0;34m,\u001b[0m \u001b[0;34m*\u001b[0m\u001b[0margs\u001b[0m\u001b[0;34m,\u001b[0m \u001b[0;34m**\u001b[0m\u001b[0mkwargs\u001b[0m\u001b[0;34m)\u001b[0m\u001b[0;34m\u001b[0m\u001b[0;34m\u001b[0m\u001b[0m\n\u001b[0m\u001b[1;32m    518\u001b[0m     \u001b[0;32mfinally\u001b[0m\u001b[0;34m:\u001b[0m\u001b[0;34m\u001b[0m\u001b[0;34m\u001b[0m\u001b[0m\n\u001b[1;32m    519\u001b[0m       \u001b[0mself\u001b[0m\u001b[0;34m.\u001b[0m\u001b[0m_self_setattr_tracking\u001b[0m \u001b[0;34m=\u001b[0m \u001b[0mprevious_value\u001b[0m  \u001b[0;31m# pylint: disable=protected-access\u001b[0m\u001b[0;34m\u001b[0m\u001b[0;34m\u001b[0m\u001b[0m\n",
      "\u001b[0;32m~/opt/anaconda3/envs/PythonAdv/lib/python3.6/site-packages/tensorflow/python/keras/engine/sequential.py\u001b[0m in \u001b[0;36madd\u001b[0;34m(self, layer)\u001b[0m\n\u001b[1;32m    182\u001b[0m       raise TypeError('The added layer must be '\n\u001b[1;32m    183\u001b[0m                       \u001b[0;34m'an instance of class Layer. '\u001b[0m\u001b[0;34m\u001b[0m\u001b[0;34m\u001b[0m\u001b[0m\n\u001b[0;32m--> 184\u001b[0;31m                       'Found: ' + str(layer))\n\u001b[0m\u001b[1;32m    185\u001b[0m \u001b[0;34m\u001b[0m\u001b[0m\n\u001b[1;32m    186\u001b[0m     \u001b[0mtf_utils\u001b[0m\u001b[0;34m.\u001b[0m\u001b[0massert_no_legacy_layers\u001b[0m\u001b[0;34m(\u001b[0m\u001b[0;34m[\u001b[0m\u001b[0mlayer\u001b[0m\u001b[0;34m]\u001b[0m\u001b[0;34m)\u001b[0m\u001b[0;34m\u001b[0m\u001b[0;34m\u001b[0m\u001b[0m\n",
      "\u001b[0;31mTypeError\u001b[0m: The added layer must be an instance of class Layer. Found: <keras.layers.core.Dense object at 0x7fb2f9a060f0>"
     ]
    }
   ],
   "source": [
    "import numpy as np\n",
    "from tensorflow.keras import Sequential\n",
    "# from keras.models import Sequential\n",
    "from keras.layers import Dense, Dropout, Activation, Flatten\n",
    "from keras.layers import Convolution2D, MaxPooling2D\n",
    "from keras.optimizers import Adam\n",
    "from keras.utils import np_utils\n",
    "from sklearn import metrics \n",
    "\n",
    "num_labels = y.shape[1]\n",
    "filter_size = 2\n",
    "\n",
    "# build model\n",
    "model = tensorflow.keras.Sequential()\n",
    "\n",
    "model.add(Dense(256, input_shape=(40,)))\n",
    "model.add(Activation('relu'))\n",
    "model.add(Dropout(0.5))\n",
    "\n",
    "model.add(Dense(256))\n",
    "model.add(Activation('relu'))\n",
    "model.add(Dropout(0.5))\n",
    "\n",
    "model.add(Dense(num_labels))\n",
    "model.add(Activation('softmax'))\n",
    "\n",
    "model.compile(loss='categorical_crossentropy', metrics=['accuracy'], optimizer='adam')"
   ]
  },
  {
   "cell_type": "code",
   "execution_count": null,
   "id": "geological-thread",
   "metadata": {},
   "outputs": [],
   "source": []
  },
  {
   "cell_type": "code",
   "execution_count": null,
   "id": "latin-kenya",
   "metadata": {},
   "outputs": [],
   "source": []
  }
 ],
 "metadata": {
  "kernelspec": {
   "display_name": "Python 3",
   "language": "python",
   "name": "python3"
  },
  "language_info": {
   "codemirror_mode": {
    "name": "ipython",
    "version": 3
   },
   "file_extension": ".py",
   "mimetype": "text/x-python",
   "name": "python",
   "nbconvert_exporter": "python",
   "pygments_lexer": "ipython3",
   "version": "3.6.12"
  }
 },
 "nbformat": 4,
 "nbformat_minor": 5
}
