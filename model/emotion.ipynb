{
 "cells": [
  {
   "cell_type": "code",
   "execution_count": 1,
   "id": "electrical-collector",
   "metadata": {},
   "outputs": [
    {
     "name": "stdout",
     "output_type": "stream",
     "text": [
      "Requirement already satisfied: librosa in /Users/timsamson/opt/anaconda3/envs/PythonAdv/lib/python3.6/site-packages (0.8.0)\n",
      "Requirement already satisfied: scipy>=1.0.0 in /Users/timsamson/opt/anaconda3/envs/PythonAdv/lib/python3.6/site-packages (from librosa) (1.5.2)\n",
      "Requirement already satisfied: soundfile>=0.9.0 in /Users/timsamson/opt/anaconda3/envs/PythonAdv/lib/python3.6/site-packages (from librosa) (0.10.3.post1)\n",
      "Requirement already satisfied: numba>=0.43.0 in /Users/timsamson/opt/anaconda3/envs/PythonAdv/lib/python3.6/site-packages (from librosa) (0.52.0)\n",
      "Requirement already satisfied: decorator>=3.0.0 in /Users/timsamson/opt/anaconda3/envs/PythonAdv/lib/python3.6/site-packages (from librosa) (4.4.2)\n",
      "Requirement already satisfied: resampy>=0.2.2 in /Users/timsamson/opt/anaconda3/envs/PythonAdv/lib/python3.6/site-packages (from librosa) (0.2.2)\n",
      "Requirement already satisfied: joblib>=0.14 in /Users/timsamson/opt/anaconda3/envs/PythonAdv/lib/python3.6/site-packages (from librosa) (1.0.0)\n",
      "Requirement already satisfied: numpy>=1.15.0 in /Users/timsamson/opt/anaconda3/envs/PythonAdv/lib/python3.6/site-packages (from librosa) (1.19.5)\n",
      "Requirement already satisfied: pooch>=1.0 in /Users/timsamson/opt/anaconda3/envs/PythonAdv/lib/python3.6/site-packages (from librosa) (1.3.0)\n",
      "Requirement already satisfied: audioread>=2.0.0 in /Users/timsamson/opt/anaconda3/envs/PythonAdv/lib/python3.6/site-packages (from librosa) (2.1.9)\n",
      "Requirement already satisfied: scikit-learn!=0.19.0,>=0.14.0 in /Users/timsamson/opt/anaconda3/envs/PythonAdv/lib/python3.6/site-packages (from librosa) (0.23.2)\n",
      "Requirement already satisfied: setuptools in /Users/timsamson/opt/anaconda3/envs/PythonAdv/lib/python3.6/site-packages (from numba>=0.43.0->librosa) (52.0.0.post20210125)\n",
      "Requirement already satisfied: llvmlite<0.36,>=0.35.0 in /Users/timsamson/opt/anaconda3/envs/PythonAdv/lib/python3.6/site-packages (from numba>=0.43.0->librosa) (0.35.0)\n",
      "Requirement already satisfied: packaging in /Users/timsamson/opt/anaconda3/envs/PythonAdv/lib/python3.6/site-packages (from pooch>=1.0->librosa) (20.9)\n",
      "Requirement already satisfied: appdirs in /Users/timsamson/opt/anaconda3/envs/PythonAdv/lib/python3.6/site-packages (from pooch>=1.0->librosa) (1.4.4)\n",
      "Requirement already satisfied: requests in /Users/timsamson/opt/anaconda3/envs/PythonAdv/lib/python3.6/site-packages (from pooch>=1.0->librosa) (2.25.1)\n",
      "Requirement already satisfied: six>=1.3 in /Users/timsamson/opt/anaconda3/envs/PythonAdv/lib/python3.6/site-packages (from resampy>=0.2.2->librosa) (1.15.0)\n",
      "Requirement already satisfied: threadpoolctl>=2.0.0 in /Users/timsamson/opt/anaconda3/envs/PythonAdv/lib/python3.6/site-packages (from scikit-learn!=0.19.0,>=0.14.0->librosa) (2.1.0)\n",
      "Requirement already satisfied: cffi>=1.0 in /Users/timsamson/opt/anaconda3/envs/PythonAdv/lib/python3.6/site-packages (from soundfile>=0.9.0->librosa) (1.14.4)\n",
      "Requirement already satisfied: pycparser in /Users/timsamson/opt/anaconda3/envs/PythonAdv/lib/python3.6/site-packages (from cffi>=1.0->soundfile>=0.9.0->librosa) (2.20)\n",
      "Requirement already satisfied: pyparsing>=2.0.2 in /Users/timsamson/opt/anaconda3/envs/PythonAdv/lib/python3.6/site-packages (from packaging->pooch>=1.0->librosa) (2.4.7)\n",
      "Requirement already satisfied: urllib3<1.27,>=1.21.1 in /Users/timsamson/opt/anaconda3/envs/PythonAdv/lib/python3.6/site-packages (from requests->pooch>=1.0->librosa) (1.26.3)\n",
      "Requirement already satisfied: chardet<5,>=3.0.2 in /Users/timsamson/opt/anaconda3/envs/PythonAdv/lib/python3.6/site-packages (from requests->pooch>=1.0->librosa) (4.0.0)\n",
      "Requirement already satisfied: certifi>=2017.4.17 in /Users/timsamson/opt/anaconda3/envs/PythonAdv/lib/python3.6/site-packages (from requests->pooch>=1.0->librosa) (2020.12.5)\n",
      "Requirement already satisfied: idna<3,>=2.5 in /Users/timsamson/opt/anaconda3/envs/PythonAdv/lib/python3.6/site-packages (from requests->pooch>=1.0->librosa) (2.10)\n"
     ]
    }
   ],
   "source": [
    "#  Required Install\n",
    "!pip install librosa"
   ]
  },
  {
   "cell_type": "code",
   "execution_count": 2,
   "id": "perceived-landing",
   "metadata": {},
   "outputs": [],
   "source": [
    "#Import Dependencies\n",
    "from pylab import *\n",
    "import os\n",
    "import pandas as pd\n",
    "import librosa\n",
    "import librosa.display\n",
    "import glob"
   ]
  },
  {
   "cell_type": "markdown",
   "id": "sunrise-yemen",
   "metadata": {},
   "source": [
    "# Sample one audio File"
   ]
  },
  {
   "cell_type": "code",
   "execution_count": 3,
   "id": "qualified-listening",
   "metadata": {},
   "outputs": [
    {
     "name": "stdout",
     "output_type": "stream",
     "text": [
      "[-5.2936412e-07  5.2245684e-07 -4.8367059e-07 ... -7.7196285e-07\n",
      "  7.8327724e-07  0.0000000e+00] 22050\n"
     ]
    },
    {
     "data": {
      "text/plain": [
       "<matplotlib.collections.PolyCollection at 0x7f9db9745908>"
      ]
     },
     "execution_count": 3,
     "metadata": {},
     "output_type": "execute_result"
    },
    {
     "data": {
      "image/png": "[encoded data removed]",
      "text/plain": [
       "<Figure size 864x288 with 1 Axes>"
      ]
     },
     "metadata": {
      "needs_background": "light"
     },
     "output_type": "display_data"
    }
   ],
   "source": [
    "data, sampling_rate = librosa.load('../data/emotion_speech/03-01-06-01-02-02-02.wav')\n",
    "plt.figure(figsize=(12, 4))\n",
    "\n",
    "print(data, sampling_rate)\n",
    "librosa.display.waveplot(data, sr=sampling_rate)"
   ]
  },
  {
   "cell_type": "markdown",
   "id": "mineral-contrast",
   "metadata": {},
   "source": [
    "# Model"
   ]
  },
  {
   "cell_type": "code",
   "execution_count": 4,
   "id": "fuzzy-richmond",
   "metadata": {},
   "outputs": [],
   "source": [
    "data = pd.read_csv('../data/audio_data.csv')"
   ]
  },
  {
   "cell_type": "code",
   "execution_count": 8,
   "id": "proof-longitude",
   "metadata": {},
   "outputs": [],
   "source": [
    "#Import Dependencies\n",
    "from sklearn.preprocessing import LabelEncoder\n",
    "import numpy as np\n",
    "from tensorflow.keras.layers  import Dense, Dropout, Activation, Flatten\n",
    "from keras.layers import Convolution2D, MaxPooling2D\n",
    "from keras.optimizers import Adam\n",
    "from tensorflow.keras.utils import to_categorical\n",
    "from sklearn import metrics \n",
    "from tensorflow.keras.models import Sequential\n",
    "from keras.utils import np_utils\n"
   ]
  },
  {
   "cell_type": "code",
   "execution_count": 9,
   "id": "noticed-wallace",
   "metadata": {
    "scrolled": true
   },
   "outputs": [],
   "source": [
    "X = np.array(data.feature.tolist())\n",
    "y = np.array(data.label.tolist())\n",
    "\n",
    "lb = LabelEncoder()\n",
    "\n",
    "y = np_utils.to_categorical(lb.fit_transform(y))"
   ]
  },
  {
   "cell_type": "code",
   "execution_count": 10,
   "id": "related-jesus",
   "metadata": {},
   "outputs": [],
   "source": [
    "num_labels = y.shape[1]\n",
    "filter_size = 2\n",
    "\n",
    "# build model\n",
    "model = Sequential()\n",
    "\n",
    "model.add(Dense(256, input_shape=(40,)))\n",
    "model.add(Activation('relu'))\n",
    "model.add(Dropout(0.5))\n",
    "\n",
    "model.add(Dense(256))\n",
    "model.add(Activation('relu'))\n",
    "model.add(Dropout(0.5))\n",
    "\n",
    "model.add(Dense(num_labels))\n",
    "model.add(Activation('softmax'))\n",
    "\n",
    "model.compile(loss='categorical_crossentropy', metrics=['accuracy'], optimizer='adam')"
   ]
  },
  {
   "cell_type": "code",
   "execution_count": 12,
   "id": "geological-thread",
   "metadata": {},
   "outputs": [],
   "source": [
    "# model.fit(X, y, batch_size=32, epochs=5, validation_data=(val_x, val_y))"
   ]
  },
  {
   "cell_type": "code",
   "execution_count": null,
   "id": "latin-kenya",
   "metadata": {},
   "outputs": [],
   "source": []
  }
 ],
 "metadata": {
  "kernelspec": {
   "display_name": "Python 3",
   "language": "python",
   "name": "python3"
  },
  "language_info": {
   "codemirror_mode": {
    "name": "ipython",
    "version": 3
   },
   "file_extension": ".py",
   "mimetype": "text/x-python",
   "name": "python",
   "nbconvert_exporter": "python",
   "pygments_lexer": "ipython3",
   "version": "3.6.12"
  }
 },
 "nbformat": 4,
 "nbformat_minor": 5
}
